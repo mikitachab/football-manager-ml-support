{
 "cells": [
  {
   "cell_type": "markdown",
   "metadata": {},
   "source": [
    "## Wstępne przetwarzanie danych c.d."
   ]
  },
  {
   "cell_type": "markdown",
   "metadata": {},
   "source": [
    "Na danym etapie przeprowadzenie eksploracji danych jest bardzo ciężkim oraz czasochłonnym zadaniem ponieważ zbiór uczący nadal zawiera bardzo dużo kolumn. Więc następnym etapem filtracja cech pod względem właściwości statystycznych."
   ]
  },
  {
   "cell_type": "markdown",
   "metadata": {},
   "source": [
    "### Aktualny zakres:\n",
    "- Transformacja zmiennej celi (do przeniesienia do innego rozdziału)\n",
    "- Filtracja cech pod względem:\n",
    "\t-  cech stałych\n",
    "\t-  cech quasi-stałych\n",
    "\t-  cech duplikatów\n",
    "\t-  cech o dużej korelacji\n",
    "- Pierwszy eksperyment uczenia modelu\n",
    "\n",
    "### Planowane operacje i eksperymenty: \n",
    "- Redukcja cech umiejętności (ST, RB, ...) do jednej cechy (np \"Skill\") za pomocą PCA \n",
    "- Przetwarzanie danych odstających\n",
    "- Normalizacja danych\n"
   ]
  },
  {
   "cell_type": "markdown",
   "metadata": {},
   "source": [
    "### Importowanie potrzebnych bibliotek "
   ]
  },
  {
   "cell_type": "code",
   "execution_count": 1,
   "metadata": {
    "scrolled": true
   },
   "outputs": [],
   "source": [
    "import numpy as np\n",
    "import pandas as pd\n",
    "import matplotlib.pyplot as plt\n",
    "import seaborn as sns\n",
    "\n",
    "from sklearn.model_selection import train_test_split  \n",
    "from sklearn.feature_selection import VarianceThreshold\n",
    "from sklearn.tree import DecisionTreeClassifier\n",
    "from sklearn.preprocessing import LabelEncoder\n",
    "from sklearn.metrics import classification_report\n",
    "from sklearn.ensemble import RandomForestClassifier\n",
    "%matplotlib inline"
   ]
  },
  {
   "cell_type": "markdown",
   "metadata": {},
   "source": [
    "Po poprzedmin przetwarzaniu danych nasz zbiór znajduje się już w nowym pliku"
   ]
  },
  {
   "cell_type": "code",
   "execution_count": 2,
   "metadata": {},
   "outputs": [],
   "source": [
    "fifa_data = pd.read_csv('new_data.csv')"
   ]
  },
  {
   "cell_type": "code",
   "execution_count": 3,
   "metadata": {},
   "outputs": [],
   "source": [
    "cols =  ['Preferred Foot', 'Body Type' , 'Work Rate', 'Position']\n",
    "for col in cols:\n",
    "    fifa_data[col] = fifa_data[col].astype('category')"
   ]
  },
  {
   "cell_type": "code",
   "execution_count": 4,
   "metadata": {},
   "outputs": [
    {
     "name": "stdout",
     "output_type": "stream",
     "text": [
      "<class 'pandas.core.frame.DataFrame'>\n",
      "RangeIndex: 16122 entries, 0 to 16121\n",
      "Data columns (total 66 columns):\n",
      "Age                16122 non-null int64\n",
      "Overall            16122 non-null int64\n",
      "Potential          16122 non-null int64\n",
      "Preferred Foot     16122 non-null category\n",
      "Weak Foot          16122 non-null float64\n",
      "Skill Moves        16122 non-null float64\n",
      "Work Rate          16122 non-null category\n",
      "Body Type          16122 non-null category\n",
      "Position           16122 non-null category\n",
      "Height             16122 non-null float64\n",
      "Weight             16122 non-null float64\n",
      "LS                 16122 non-null int64\n",
      "ST                 16122 non-null int64\n",
      "RS                 16122 non-null int64\n",
      "LW                 16122 non-null int64\n",
      "LF                 16122 non-null int64\n",
      "CF                 16122 non-null int64\n",
      "RF                 16122 non-null int64\n",
      "RW                 16122 non-null int64\n",
      "LAM                16122 non-null int64\n",
      "CAM                16122 non-null int64\n",
      "RAM                16122 non-null int64\n",
      "LM                 16122 non-null int64\n",
      "LCM                16122 non-null int64\n",
      "CM                 16122 non-null int64\n",
      "RCM                16122 non-null int64\n",
      "RM                 16122 non-null int64\n",
      "LWB                16122 non-null int64\n",
      "LDM                16122 non-null int64\n",
      "CDM                16122 non-null int64\n",
      "RDM                16122 non-null int64\n",
      "RWB                16122 non-null int64\n",
      "LB                 16122 non-null int64\n",
      "LCB                16122 non-null int64\n",
      "CB                 16122 non-null int64\n",
      "RCB                16122 non-null int64\n",
      "RB                 16122 non-null int64\n",
      "Crossing           16122 non-null float64\n",
      "Finishing          16122 non-null float64\n",
      "HeadingAccuracy    16122 non-null float64\n",
      "ShortPassing       16122 non-null float64\n",
      "Volleys            16122 non-null float64\n",
      "Dribbling          16122 non-null float64\n",
      "Curve              16122 non-null float64\n",
      "FKAccuracy         16122 non-null float64\n",
      "LongPassing        16122 non-null float64\n",
      "BallControl        16122 non-null float64\n",
      "Acceleration       16122 non-null float64\n",
      "SprintSpeed        16122 non-null float64\n",
      "Agility            16122 non-null float64\n",
      "Reactions          16122 non-null float64\n",
      "Balance            16122 non-null float64\n",
      "ShotPower          16122 non-null float64\n",
      "Jumping            16122 non-null float64\n",
      "Stamina            16122 non-null float64\n",
      "Strength           16122 non-null float64\n",
      "LongShots          16122 non-null float64\n",
      "Aggression         16122 non-null float64\n",
      "Interceptions      16122 non-null float64\n",
      "Positioning        16122 non-null float64\n",
      "Vision             16122 non-null float64\n",
      "Penalties          16122 non-null float64\n",
      "Composure          16122 non-null float64\n",
      "Marking            16122 non-null float64\n",
      "StandingTackle     16122 non-null float64\n",
      "SlidingTackle      16122 non-null float64\n",
      "dtypes: category(4), float64(33), int64(29)\n",
      "memory usage: 7.7 MB\n"
     ]
    }
   ],
   "source": [
    "fifa_data.info()"
   ]
  },
  {
   "cell_type": "code",
   "execution_count": 5,
   "metadata": {},
   "outputs": [],
   "source": [
    "fifa_no_category = fifa_data.select_dtypes(exclude=['category'])"
   ]
  },
  {
   "cell_type": "code",
   "execution_count": 6,
   "metadata": {},
   "outputs": [
    {
     "data": {
      "text/plain": [
       "<matplotlib.axes._subplots.AxesSubplot at 0x7fe73da776a0>"
      ]
     },
     "execution_count": 6,
     "metadata": {},
     "output_type": "execute_result"
    },
    {
     "data": {
      "image/png": "[encoded data removed]",
      "text/plain": [
       "<Figure size 432x288 with 1 Axes>"
      ]
     },
     "metadata": {
      "needs_background": "light"
     },
     "output_type": "display_data"
    }
   ],
   "source": [
    "position = fifa_data['Position']\n",
    "sns.countplot(position, order=position.value_counts().index)"
   ]
  },
  {
   "cell_type": "code",
   "execution_count": 7,
   "metadata": {},
   "outputs": [
    {
     "name": "stdout",
     "output_type": "stream",
     "text": [
      "CF count 74\n"
     ]
    }
   ],
   "source": [
    "print('CF count', len(position[position == 'CF']))"
   ]
  },
  {
   "cell_type": "code",
   "execution_count": 8,
   "metadata": {},
   "outputs": [
    {
     "name": "stdout",
     "output_type": "stream",
     "text": [
      "CM count 3300\n"
     ]
    }
   ],
   "source": [
    "print('CM count', len(position[position == 'CM']))"
   ]
  },
  {
   "cell_type": "code",
   "execution_count": 9,
   "metadata": {
    "scrolled": false
   },
   "outputs": [
    {
     "name": "stdout",
     "output_type": "stream",
     "text": [
      "data records number = 16122\n"
     ]
    }
   ],
   "source": [
    "print('data records number =', len(position))"
   ]
  },
  {
   "cell_type": "code",
   "execution_count": 10,
   "metadata": {},
   "outputs": [],
   "source": [
    "fifa_data['Position'] = fifa_data['Position'].apply(lambda x: x if x not in ['LF','CF','RF'] else 'F')"
   ]
  },
  {
   "cell_type": "code",
   "execution_count": 11,
   "metadata": {},
   "outputs": [],
   "source": [
    "target = fifa_data['Position']\n",
    "fifa_data.drop('Position', axis=1, inplace=True)"
   ]
  },
  {
   "cell_type": "code",
   "execution_count": 12,
   "metadata": {
    "scrolled": true
   },
   "outputs": [
    {
     "data": {
      "text/plain": [
       "<matplotlib.axes._subplots.AxesSubplot at 0x7fe73df258d0>"
      ]
     },
     "execution_count": 12,
     "metadata": {},
     "output_type": "execute_result"
    },
    {
     "data": {
      "image/png": "[encoded data removed]",
      "text/plain": [
       "<Figure size 432x288 with 1 Axes>"
      ]
     },
     "metadata": {
      "needs_background": "light"
     },
     "output_type": "display_data"
    }
   ],
   "source": [
    "sns.countplot(target, order=target.value_counts().index)"
   ]
  },
  {
   "cell_type": "markdown",
   "metadata": {},
   "source": [
    "### Usuwanie cech stałych"
   ]
  },
  {
   "cell_type": "code",
   "execution_count": 13,
   "metadata": {},
   "outputs": [],
   "source": [
    "constant_filter = VarianceThreshold(threshold=0)"
   ]
  },
  {
   "cell_type": "code",
   "execution_count": 14,
   "metadata": {},
   "outputs": [
    {
     "data": {
      "text/plain": [
       "VarianceThreshold(threshold=0)"
      ]
     },
     "execution_count": 14,
     "metadata": {},
     "output_type": "execute_result"
    }
   ],
   "source": [
    "constant_filter.fit(fifa_no_category)"
   ]
  },
  {
   "cell_type": "code",
   "execution_count": 15,
   "metadata": {},
   "outputs": [
    {
     "data": {
      "text/plain": [
       "[]"
      ]
     },
     "execution_count": 15,
     "metadata": {},
     "output_type": "execute_result"
    }
   ],
   "source": [
    "selected_features =  fifa_no_category.columns[constant_filter.get_support()]\n",
    "constant_features = [feature for feature in fifa_no_category if feature not in selected_features]\n",
    "constant_features"
   ]
  },
  {
   "cell_type": "markdown",
   "metadata": {},
   "source": [
    "Oryginalny zbiór uczący nie zawiera cech stałych"
   ]
  },
  {
   "cell_type": "markdown",
   "metadata": {},
   "source": [
    "### Usuwanie quasi-stałych cech"
   ]
  },
  {
   "cell_type": "code",
   "execution_count": 16,
   "metadata": {},
   "outputs": [
    {
     "data": {
      "text/plain": [
       "[]"
      ]
     },
     "execution_count": 16,
     "metadata": {},
     "output_type": "execute_result"
    }
   ],
   "source": [
    "VARIANCE_THRESHHOLD = 0.2\n",
    "qconstant_filter = VarianceThreshold(threshold=VARIANCE_THRESHHOLD)\n",
    "qconstant_filter.fit(fifa_no_category)\n",
    "selected_features =  fifa_no_category.columns[qconstant_filter.get_support()]\n",
    "qconstant_features = [feature for feature in fifa_no_category if feature not in selected_features]\n",
    "qconstant_features"
   ]
  },
  {
   "cell_type": "markdown",
   "metadata": {},
   "source": [
    "Oryginalny zbiór uczący nie zawiera cech stałych"
   ]
  },
  {
   "cell_type": "markdown",
   "metadata": {},
   "source": [
    "### Usuwanie Cech duplikatów"
   ]
  },
  {
   "cell_type": "code",
   "execution_count": 17,
   "metadata": {},
   "outputs": [
    {
     "data": {
      "text/plain": [
       "(16122, 65)"
      ]
     },
     "execution_count": 17,
     "metadata": {},
     "output_type": "execute_result"
    }
   ],
   "source": [
    "fifa_data.shape"
   ]
  },
  {
   "cell_type": "code",
   "execution_count": 18,
   "metadata": {},
   "outputs": [],
   "source": [
    "fifa_T = fifa_data.T"
   ]
  },
  {
   "cell_type": "code",
   "execution_count": 19,
   "metadata": {},
   "outputs": [
    {
     "data": {
      "text/plain": [
       "(65, 16122)"
      ]
     },
     "execution_count": 19,
     "metadata": {},
     "output_type": "execute_result"
    }
   ],
   "source": [
    "fifa_T.shape"
   ]
  },
  {
   "cell_type": "code",
   "execution_count": 20,
   "metadata": {},
   "outputs": [],
   "source": [
    "fifa_T_no_duplictes = fifa_T.drop_duplicates(keep='first')"
   ]
  },
  {
   "cell_type": "code",
   "execution_count": 21,
   "metadata": {},
   "outputs": [
    {
     "data": {
      "text/plain": [
       "(49, 16122)"
      ]
     },
     "execution_count": 21,
     "metadata": {},
     "output_type": "execute_result"
    }
   ],
   "source": [
    "fifa_T_no_duplictes.shape"
   ]
  },
  {
   "cell_type": "code",
   "execution_count": 22,
   "metadata": {},
   "outputs": [],
   "source": [
    "fifa_no_duplictes_features = fifa_T_no_duplictes.T"
   ]
  },
  {
   "cell_type": "code",
   "execution_count": 23,
   "metadata": {},
   "outputs": [
    {
     "data": {
      "text/plain": [
       "Index(['Age', 'Overall', 'Potential', 'Preferred Foot', 'Weak Foot',\n",
       "       'Skill Moves', 'Work Rate', 'Body Type', 'Height', 'Weight', 'LS', 'LW',\n",
       "       'LF', 'LAM', 'LM', 'LCM', 'LWB', 'LDM', 'LB', 'LCB', 'Crossing',\n",
       "       'Finishing', 'HeadingAccuracy', 'ShortPassing', 'Volleys', 'Dribbling',\n",
       "       'Curve', 'FKAccuracy', 'LongPassing', 'BallControl', 'Acceleration',\n",
       "       'SprintSpeed', 'Agility', 'Reactions', 'Balance', 'ShotPower',\n",
       "       'Jumping', 'Stamina', 'Strength', 'LongShots', 'Aggression',\n",
       "       'Interceptions', 'Positioning', 'Vision', 'Penalties', 'Composure',\n",
       "       'Marking', 'StandingTackle', 'SlidingTackle'],\n",
       "      dtype='object')"
      ]
     },
     "execution_count": 23,
     "metadata": {},
     "output_type": "execute_result"
    }
   ],
   "source": [
    "fifa_no_duplictes_features.columns"
   ]
  },
  {
   "cell_type": "code",
   "execution_count": 24,
   "metadata": {},
   "outputs": [
    {
     "data": {
      "text/plain": [
       "['ST',\n",
       " 'RS',\n",
       " 'CF',\n",
       " 'RF',\n",
       " 'RW',\n",
       " 'CAM',\n",
       " 'RAM',\n",
       " 'CM',\n",
       " 'RCM',\n",
       " 'RM',\n",
       " 'CDM',\n",
       " 'RDM',\n",
       " 'RWB',\n",
       " 'CB',\n",
       " 'RCB',\n",
       " 'RB']"
      ]
     },
     "execution_count": 24,
     "metadata": {},
     "output_type": "execute_result"
    }
   ],
   "source": [
    "duplictes_features = [feature for feature in fifa_data.columns if feature not in \n",
    "                                                                  fifa_no_duplictes_features.columns ] \n",
    "duplictes_features"
   ]
  },
  {
   "cell_type": "markdown",
   "metadata": {},
   "source": [
    "Widzimy że mamy cechy, które tylko powtażają pewną informacje, któtch nie potrzebujemy mieć w zbiorze uczącym "
   ]
  },
  {
   "cell_type": "code",
   "execution_count": 25,
   "metadata": {},
   "outputs": [],
   "source": [
    "fifa_data.drop(columns=duplictes_features, axis=1, inplace=True)"
   ]
  },
  {
   "cell_type": "code",
   "execution_count": 26,
   "metadata": {},
   "outputs": [
    {
     "data": {
      "text/plain": [
       "(16122, 49)"
      ]
     },
     "execution_count": 26,
     "metadata": {},
     "output_type": "execute_result"
    }
   ],
   "source": [
    "fifa_data.shape"
   ]
  },
  {
   "cell_type": "markdown",
   "metadata": {},
   "source": [
    "### Usuwanie cech o dużej korelacji (przeniesione do EDA)"
   ]
  },
  {
   "cell_type": "markdown",
   "metadata": {},
   "source": [
    "## Eksperyment uczenia modelu"
   ]
  },
  {
   "cell_type": "code",
   "execution_count": 27,
   "metadata": {},
   "outputs": [],
   "source": [
    "label_encoder = LabelEncoder()"
   ]
  },
  {
   "cell_type": "code",
   "execution_count": 28,
   "metadata": {},
   "outputs": [],
   "source": [
    "fifa_categories = fifa_data.select_dtypes('category')"
   ]
  },
  {
   "cell_type": "code",
   "execution_count": 29,
   "metadata": {},
   "outputs": [],
   "source": [
    "def encode_labels(col):\n",
    "    return label_encoder.fit_transform(col)"
   ]
  },
  {
   "cell_type": "code",
   "execution_count": 30,
   "metadata": {},
   "outputs": [],
   "source": [
    "fifa_data[fifa_categories.columns] = fifa_data[fifa_categories.columns].apply(encode_labels)"
   ]
  },
  {
   "cell_type": "code",
   "execution_count": 31,
   "metadata": {},
   "outputs": [],
   "source": [
    " X_train, X_test, y_train, y_test = train_test_split(\n",
    "        fifa_data, target, test_size=0.33, random_state=42)"
   ]
  },
  {
   "cell_type": "code",
   "execution_count": 32,
   "metadata": {},
   "outputs": [],
   "source": [
    "decision_tree_model = DecisionTreeClassifier()"
   ]
  },
  {
   "cell_type": "code",
   "execution_count": 33,
   "metadata": {},
   "outputs": [
    {
     "data": {
      "text/html": [
       "<div>\n",
       "<style scoped>\n",
       "    .dataframe tbody tr th:only-of-type {\n",
       "        vertical-align: middle;\n",
       "    }\n",
       "\n",
       "    .dataframe tbody tr th {\n",
       "        vertical-align: top;\n",
       "    }\n",
       "\n",
       "    .dataframe thead th {\n",
       "        text-align: right;\n",
       "    }\n",
       "</style>\n",
       "<table border=\"1\" class=\"dataframe\">\n",
       "  <thead>\n",
       "    <tr style=\"text-align: right;\">\n",
       "      <th></th>\n",
       "      <th>Age</th>\n",
       "      <th>Overall</th>\n",
       "      <th>Potential</th>\n",
       "      <th>Preferred Foot</th>\n",
       "      <th>Weak Foot</th>\n",
       "      <th>Skill Moves</th>\n",
       "      <th>Work Rate</th>\n",
       "      <th>Body Type</th>\n",
       "      <th>Height</th>\n",
       "      <th>Weight</th>\n",
       "      <th>...</th>\n",
       "      <th>LongShots</th>\n",
       "      <th>Aggression</th>\n",
       "      <th>Interceptions</th>\n",
       "      <th>Positioning</th>\n",
       "      <th>Vision</th>\n",
       "      <th>Penalties</th>\n",
       "      <th>Composure</th>\n",
       "      <th>Marking</th>\n",
       "      <th>StandingTackle</th>\n",
       "      <th>SlidingTackle</th>\n",
       "    </tr>\n",
       "  </thead>\n",
       "  <tbody>\n",
       "    <tr>\n",
       "      <th>0</th>\n",
       "      <td>31</td>\n",
       "      <td>94</td>\n",
       "      <td>94</td>\n",
       "      <td>0</td>\n",
       "      <td>4.0</td>\n",
       "      <td>4.0</td>\n",
       "      <td>8</td>\n",
       "      <td>1</td>\n",
       "      <td>170.18</td>\n",
       "      <td>72.11</td>\n",
       "      <td>...</td>\n",
       "      <td>94.0</td>\n",
       "      <td>48.0</td>\n",
       "      <td>22.0</td>\n",
       "      <td>94.0</td>\n",
       "      <td>94.0</td>\n",
       "      <td>75.0</td>\n",
       "      <td>96.0</td>\n",
       "      <td>33.0</td>\n",
       "      <td>28.0</td>\n",
       "      <td>26.0</td>\n",
       "    </tr>\n",
       "    <tr>\n",
       "      <th>1</th>\n",
       "      <td>33</td>\n",
       "      <td>94</td>\n",
       "      <td>94</td>\n",
       "      <td>1</td>\n",
       "      <td>4.0</td>\n",
       "      <td>5.0</td>\n",
       "      <td>1</td>\n",
       "      <td>1</td>\n",
       "      <td>187.96</td>\n",
       "      <td>82.99</td>\n",
       "      <td>...</td>\n",
       "      <td>93.0</td>\n",
       "      <td>63.0</td>\n",
       "      <td>29.0</td>\n",
       "      <td>95.0</td>\n",
       "      <td>82.0</td>\n",
       "      <td>85.0</td>\n",
       "      <td>95.0</td>\n",
       "      <td>28.0</td>\n",
       "      <td>31.0</td>\n",
       "      <td>23.0</td>\n",
       "    </tr>\n",
       "    <tr>\n",
       "      <th>2</th>\n",
       "      <td>26</td>\n",
       "      <td>92</td>\n",
       "      <td>93</td>\n",
       "      <td>1</td>\n",
       "      <td>5.0</td>\n",
       "      <td>5.0</td>\n",
       "      <td>2</td>\n",
       "      <td>1</td>\n",
       "      <td>175.26</td>\n",
       "      <td>68.03</td>\n",
       "      <td>...</td>\n",
       "      <td>82.0</td>\n",
       "      <td>56.0</td>\n",
       "      <td>36.0</td>\n",
       "      <td>89.0</td>\n",
       "      <td>87.0</td>\n",
       "      <td>81.0</td>\n",
       "      <td>94.0</td>\n",
       "      <td>27.0</td>\n",
       "      <td>24.0</td>\n",
       "      <td>33.0</td>\n",
       "    </tr>\n",
       "    <tr>\n",
       "      <th>3</th>\n",
       "      <td>27</td>\n",
       "      <td>91</td>\n",
       "      <td>92</td>\n",
       "      <td>1</td>\n",
       "      <td>5.0</td>\n",
       "      <td>4.0</td>\n",
       "      <td>0</td>\n",
       "      <td>1</td>\n",
       "      <td>180.34</td>\n",
       "      <td>69.84</td>\n",
       "      <td>...</td>\n",
       "      <td>91.0</td>\n",
       "      <td>76.0</td>\n",
       "      <td>61.0</td>\n",
       "      <td>87.0</td>\n",
       "      <td>94.0</td>\n",
       "      <td>79.0</td>\n",
       "      <td>88.0</td>\n",
       "      <td>68.0</td>\n",
       "      <td>58.0</td>\n",
       "      <td>51.0</td>\n",
       "    </tr>\n",
       "    <tr>\n",
       "      <th>4</th>\n",
       "      <td>27</td>\n",
       "      <td>91</td>\n",
       "      <td>91</td>\n",
       "      <td>1</td>\n",
       "      <td>4.0</td>\n",
       "      <td>4.0</td>\n",
       "      <td>2</td>\n",
       "      <td>1</td>\n",
       "      <td>172.72</td>\n",
       "      <td>73.92</td>\n",
       "      <td>...</td>\n",
       "      <td>80.0</td>\n",
       "      <td>54.0</td>\n",
       "      <td>41.0</td>\n",
       "      <td>87.0</td>\n",
       "      <td>89.0</td>\n",
       "      <td>86.0</td>\n",
       "      <td>91.0</td>\n",
       "      <td>34.0</td>\n",
       "      <td>27.0</td>\n",
       "      <td>22.0</td>\n",
       "    </tr>\n",
       "  </tbody>\n",
       "</table>\n",
       "<p>5 rows × 49 columns</p>\n",
       "</div>"
      ],
      "text/plain": [
       "   Age  Overall  Potential  Preferred Foot  Weak Foot  Skill Moves  Work Rate  \\\n",
       "0   31       94         94               0        4.0          4.0          8   \n",
       "1   33       94         94               1        4.0          5.0          1   \n",
       "2   26       92         93               1        5.0          5.0          2   \n",
       "3   27       91         92               1        5.0          4.0          0   \n",
       "4   27       91         91               1        4.0          4.0          2   \n",
       "\n",
       "   Body Type  Height  Weight  ...  LongShots  Aggression  Interceptions  \\\n",
       "0          1  170.18   72.11  ...       94.0        48.0           22.0   \n",
       "1          1  187.96   82.99  ...       93.0        63.0           29.0   \n",
       "2          1  175.26   68.03  ...       82.0        56.0           36.0   \n",
       "3          1  180.34   69.84  ...       91.0        76.0           61.0   \n",
       "4          1  172.72   73.92  ...       80.0        54.0           41.0   \n",
       "\n",
       "   Positioning  Vision  Penalties  Composure  Marking  StandingTackle  \\\n",
       "0         94.0    94.0       75.0       96.0     33.0            28.0   \n",
       "1         95.0    82.0       85.0       95.0     28.0            31.0   \n",
       "2         89.0    87.0       81.0       94.0     27.0            24.0   \n",
       "3         87.0    94.0       79.0       88.0     68.0            58.0   \n",
       "4         87.0    89.0       86.0       91.0     34.0            27.0   \n",
       "\n",
       "   SlidingTackle  \n",
       "0           26.0  \n",
       "1           23.0  \n",
       "2           33.0  \n",
       "3           51.0  \n",
       "4           22.0  \n",
       "\n",
       "[5 rows x 49 columns]"
      ]
     },
     "execution_count": 33,
     "metadata": {},
     "output_type": "execute_result"
    }
   ],
   "source": [
    "fifa_data.head()"
   ]
  },
  {
   "cell_type": "code",
   "execution_count": 34,
   "metadata": {},
   "outputs": [
    {
     "data": {
      "text/plain": [
       "DecisionTreeClassifier(class_weight=None, criterion='gini', max_depth=None,\n",
       "            max_features=None, max_leaf_nodes=None,\n",
       "            min_impurity_decrease=0.0, min_impurity_split=None,\n",
       "            min_samples_leaf=1, min_samples_split=2,\n",
       "            min_weight_fraction_leaf=0.0, presort=False, random_state=None,\n",
       "            splitter='best')"
      ]
     },
     "execution_count": 34,
     "metadata": {},
     "output_type": "execute_result"
    }
   ],
   "source": [
    "decision_tree_model.fit(X_train, y_train)"
   ]
  },
  {
   "cell_type": "code",
   "execution_count": 35,
   "metadata": {},
   "outputs": [],
   "source": [
    "pred = decision_tree_model.predict(X_test)"
   ]
  },
  {
   "cell_type": "code",
   "execution_count": 36,
   "metadata": {},
   "outputs": [
    {
     "name": "stdout",
     "output_type": "stream",
     "text": [
      "              precision    recall  f1-score   support\n",
      "\n",
      "          CB       0.53      0.52      0.52       581\n",
      "          CM       0.52      0.49      0.51      1138\n",
      "           F       0.20      0.21      0.21       409\n",
      "          LB       0.56      0.60      0.58       659\n",
      "          LM       0.19      0.21      0.20       546\n",
      "          RB       0.52      0.52      0.52       677\n",
      "          RM       0.23      0.23      0.23       608\n",
      "          ST       0.71      0.67      0.69       703\n",
      "\n",
      "   micro avg       0.45      0.45      0.45      5321\n",
      "   macro avg       0.43      0.43      0.43      5321\n",
      "weighted avg       0.46      0.45      0.46      5321\n",
      "\n"
     ]
    }
   ],
   "source": [
    "print(classification_report(y_test, pred))"
   ]
  },
  {
   "cell_type": "markdown",
   "metadata": {},
   "source": [
    "Na razie model radzi sobie bardzo słabo, co jest dość oczekiwanyn wynikiem. Ale możemy sprawdzić czy da się ten wynik poprawić za pomocą np użyciu bagginge, czyli w tym przypadku algorytm **Lasów Losowych** "
   ]
  },
  {
   "cell_type": "code",
   "execution_count": 37,
   "metadata": {},
   "outputs": [],
   "source": [
    "forest = RandomForestClassifier(n_estimators=100)"
   ]
  },
  {
   "cell_type": "code",
   "execution_count": 38,
   "metadata": {},
   "outputs": [
    {
     "data": {
      "text/plain": [
       "RandomForestClassifier(bootstrap=True, class_weight=None, criterion='gini',\n",
       "            max_depth=None, max_features='auto', max_leaf_nodes=None,\n",
       "            min_impurity_decrease=0.0, min_impurity_split=None,\n",
       "            min_samples_leaf=1, min_samples_split=2,\n",
       "            min_weight_fraction_leaf=0.0, n_estimators=100, n_jobs=None,\n",
       "            oob_score=False, random_state=None, verbose=0,\n",
       "            warm_start=False)"
      ]
     },
     "execution_count": 38,
     "metadata": {},
     "output_type": "execute_result"
    }
   ],
   "source": [
    "forest.fit(X_train, y_train)"
   ]
  },
  {
   "cell_type": "code",
   "execution_count": 39,
   "metadata": {},
   "outputs": [],
   "source": [
    "forest_pred = forest.predict(X_test)"
   ]
  },
  {
   "cell_type": "code",
   "execution_count": 40,
   "metadata": {},
   "outputs": [
    {
     "name": "stdout",
     "output_type": "stream",
     "text": [
      "              precision    recall  f1-score   support\n",
      "\n",
      "          CB       0.57      0.75      0.65       581\n",
      "          CM       0.58      0.82      0.68      1138\n",
      "           F       0.38      0.28      0.32       409\n",
      "          LB       0.75      0.64      0.69       659\n",
      "          LM       0.30      0.18      0.23       546\n",
      "          RB       0.69      0.68      0.68       677\n",
      "          RM       0.33      0.13      0.19       608\n",
      "          ST       0.72      0.89      0.79       703\n",
      "\n",
      "   micro avg       0.59      0.59      0.59      5321\n",
      "   macro avg       0.54      0.55      0.53      5321\n",
      "weighted avg       0.56      0.59      0.56      5321\n",
      "\n"
     ]
    }
   ],
   "source": [
    "print(classification_report(y_test, forest_pred))"
   ]
  }
 ],
 "metadata": {
  "kernelspec": {
   "display_name": "Python 3",
   "language": "python",
   "name": "python3"
  },
  "language_info": {
   "codemirror_mode": {
    "name": "ipython",
    "version": 3
   },
   "file_extension": ".py",
   "mimetype": "text/x-python",
   "name": "python",
   "nbconvert_exporter": "python",
   "pygments_lexer": "ipython3",
   "version": "3.6.8"
  }
 },
 "nbformat": 4,
 "nbformat_minor": 2
}
