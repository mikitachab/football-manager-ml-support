{
 "cells": [
  {
   "cell_type": "code",
   "execution_count": 1,
   "metadata": {
    "scrolled": true
   },
   "outputs": [],
   "source": [
    "from collections import OrderedDict\n",
    "from pprint import pprint\n",
    "from tqdm import trange\n",
    "\n",
    "import numpy as np\n",
    "import pandas as pd\n",
    "import matplotlib.pyplot as plt\n",
    "import seaborn as sns\n",
    "from sklearn.metrics import classification_report\n",
    "from sklearn.metrics import precision_recall_fscore_support as score\n",
    "from sklearn.feature_selection import RFECV, SelectKBest, f_classif\n",
    "from sklearn.tree import DecisionTreeClassifier\n",
    "from sklearn.ensemble import RandomForestClassifier, GradientBoostingClassifier, AdaBoostClassifier\n",
    "from sklearn.neighbors import KNeighborsClassifier\n",
    "from sklearn.neural_network import MLPClassifier\n",
    "import xgboost as xgb\n",
    "from sklearn.model_selection import GridSearchCV\n",
    "from imblearn.over_sampling import BorderlineSMOTE\n",
    "from hypopt import GridSearch  # provide posibility for search with validation set\n",
    "\n",
    "import utils\n",
    "from data_preprocess import preprocess_fifa_data\n",
    "from estimators import Estimator\n",
    "from experiment import perform_grid_search, eval_model\n",
    "import static\n",
    "\n",
    "from feature_engineer import (\n",
    "    make_card_features,\n",
    "    make_card_features_with_pca,\n",
    "    transform_data,\n",
    "    transofrm_skils\n",
    ")"
   ]
  },
  {
   "cell_type": "code",
   "execution_count": 2,
   "metadata": {
    "code_folding": [],
    "scrolled": true
   },
   "outputs": [],
   "source": [
    "# disable sklearn warnings\n",
    "import warnings\n",
    "warnings.filterwarnings('ignore')"
   ]
  },
  {
   "cell_type": "code",
   "execution_count": 3,
   "metadata": {
    "code_folding": [
     0
    ],
    "scrolled": true
   },
   "outputs": [],
   "source": [
    "decision_tree_params = {\n",
    "    'max_depth': [5,6,7],\n",
    "    'min_samples_leaf': [20],\n",
    "    'min_samples_split' : [100],\n",
    "    'max_features': ['sqrt']\n",
    "}\n",
    "\n",
    "estimators = [\n",
    "    Estimator(\n",
    "        name='DecisionTreeClassifier',\n",
    "        estimator=DecisionTreeClassifier(),\n",
    "        param_grid={\n",
    "            **decision_tree_params,\n",
    "            'splitter': ['best', 'random']\n",
    "        }\n",
    "    ),\n",
    "    Estimator(\n",
    "        name='RandomForestClassifier',\n",
    "        estimator=RandomForestClassifier(),\n",
    "        param_grid={\n",
    "             **decision_tree_params,\n",
    "            'bootstrap': [True],\n",
    "            'n_estimators': [100, 500, 1000]\n",
    "        }\n",
    "    ),\n",
    "    Estimator(\n",
    "        name='GradientBoostingClassifier',\n",
    "        estimator=GradientBoostingClassifier(),\n",
    "        param_grid={\n",
    "            **decision_tree_params,\n",
    "            'n_estimators': [100, 200, 500, 1000],\n",
    "            'subsample': [1, 0.8]\n",
    "        }\n",
    "    ), \n",
    "    Estimator(\n",
    "        name='XGBClassifier',\n",
    "        estimator=xgb.XGBClassifier(),\n",
    "        param_grid={\n",
    "            'objective': ['multi:softmax'],\n",
    "            'num_class': [7],\n",
    "            'n_estimators': [100, 200, 500, 1000],\n",
    "            'subsample': [1, 0.8]\n",
    "        }\n",
    "    ), \n",
    "    Estimator(\n",
    "        name='AdaBoostClassifier',\n",
    "        estimator=AdaBoostClassifier(),\n",
    "        param_grid={\n",
    "            'n_estimators': [100, 200, 500, 1000]\n",
    "        }\n",
    "    ),\n",
    "    Estimator(\n",
    "        name='KNeighborsClassifier',\n",
    "        estimator=KNeighborsClassifier(),\n",
    "        param_grid={\n",
    "            'n_neighbors': [5,10,20,30,50]\n",
    "        }\n",
    "    ),\n",
    "    Estimator(\n",
    "        name='MLPClassifier',\n",
    "        estimator=MLPClassifier(),\n",
    "        param_grid={\n",
    "            'hidden_layer_sizes': [(30,), (40,), (50,)],\n",
    "            'max_iter': [200, 500, 1000],\n",
    "            'solver': ['sgd', 'adam'],\n",
    "            'alpha': [0.0001, 0.05],\n",
    "            'learning_rate': ['constant','adaptive'],\n",
    "        }\n",
    "    ),\n",
    "]"
   ]
  },
  {
   "cell_type": "code",
   "execution_count": 4,
   "metadata": {
    "code_folding": []
   },
   "outputs": [],
   "source": [
    "def run_experiemnt(data, estimators):\n",
    "    grid_search_args = {'num_threads': 2}\n",
    "    return {estimator.name: perform_grid_search(data, estimator, grid_search_args) for estimator in estimators}\n",
    "\n",
    "def experiment_with_data_transform(\n",
    "    transform_type='no_transform', \n",
    "    target_type='default', \n",
    "    do_oversampling=False, \n",
    "    selector=None,\n",
    "    sampler=None\n",
    "):    \n",
    "    fifa_data = utils.get_fifa_data(target_type=target_type)\n",
    "    fifa_data = transform_data(fifa_data, transform_type)\n",
    "    fifa_data = transofrm_skils(fifa_data)\n",
    "    learning_data = utils.setup_learning_data(fifa_data)\n",
    "    learning_data = utils.oversampling(learning_data, sampler) if do_oversampling else learning_data\n",
    "    learning_data = utils.select_features(selector, learning_data) if selector else learning_data\n",
    "    scores = run_experiemnt(learning_data, estimators)\n",
    "    utils.plot_experiment_result(scores, transform_type)"
   ]
  },
  {
   "cell_type": "code",
   "execution_count": 5,
   "metadata": {},
   "outputs": [
    {
     "name": "stderr",
     "output_type": "stream",
     "text": [
      "INFO:data_prepare_pipeline:run data preparation pipeline\n",
      "INFO:data_prepare_pipeline:droping columns\n",
      "INFO:data_prepare_pipeline:droping records with nan values\n",
      "INFO:data_prepare_pipeline:droping goalkeepers\n",
      "INFO:data_prepare_pipeline:transform data\n",
      "INFO:data_prepare_pipeline:transform column Body Type\n",
      "INFO:data_prepare_pipeline:transform column Height\n",
      "INFO:data_prepare_pipeline:transform column Weight\n",
      "INFO:data_prepare_pipeline:transform column LS\n",
      "INFO:data_prepare_pipeline:transform column ST\n",
      "INFO:data_prepare_pipeline:transform column RS\n",
      "INFO:data_prepare_pipeline:transform column LW\n",
      "INFO:data_prepare_pipeline:transform column LF\n",
      "INFO:data_prepare_pipeline:transform column CF\n",
      "INFO:data_prepare_pipeline:transform column RF\n",
      "INFO:data_prepare_pipeline:transform column RW\n",
      "INFO:data_prepare_pipeline:transform column LAM\n",
      "INFO:data_prepare_pipeline:transform column CAM\n",
      "INFO:data_prepare_pipeline:transform column RAM\n",
      "INFO:data_prepare_pipeline:transform column LM\n",
      "INFO:data_prepare_pipeline:transform column LCM\n",
      "INFO:data_prepare_pipeline:transform column CM\n",
      "INFO:data_prepare_pipeline:transform column RCM\n",
      "INFO:data_prepare_pipeline:transform column RM\n",
      "INFO:data_prepare_pipeline:transform column LWB\n",
      "INFO:data_prepare_pipeline:transform column LDM\n",
      "INFO:data_prepare_pipeline:transform column CDM\n",
      "INFO:data_prepare_pipeline:transform column RDM\n",
      "INFO:data_prepare_pipeline:transform column RWB\n",
      "INFO:data_prepare_pipeline:transform column LB\n",
      "INFO:data_prepare_pipeline:transform column LCB\n",
      "INFO:data_prepare_pipeline:transform column CB\n",
      "INFO:data_prepare_pipeline:transform column RCB\n",
      "INFO:data_prepare_pipeline:transform column RB\n"
     ]
    },
    {
     "name": "stdout",
     "output_type": "stream",
     "text": [
      "shape before preprocess (16122, 65)\n",
      "Dropping constant columns: []\n",
      "Label encoding\n",
      "Preferred Foot encoding:\n",
      "{'Left': 0, 'Right': 1}\n",
      "Work Rate encoding:\n",
      "{'High/ High': 0,\n",
      " 'High/ Low': 1,\n",
      " 'High/ Medium': 2,\n",
      " 'Low/ High': 3,\n",
      " 'Low/ Low': 4,\n",
      " 'Low/ Medium': 5,\n",
      " 'Medium/ High': 6,\n",
      " 'Medium/ Low': 7,\n",
      " 'Medium/ Medium': 8}\n",
      "Body Type encoding:\n",
      "{'Lean': 0, 'Normal': 1, 'Stocky': 2}\n",
      "Position encoding:\n",
      "{'B': 0, 'F': 1, 'M': 2}\n",
      "Filtering players by overall 70\n",
      "shape after preprocess (5137, 65)\n",
      "dropped 10985 rows\n",
      "dropped 0 columns\n",
      "Data transform: card_features_pca\n",
      "Columns after transform\n",
      "Index(['Age', 'Overall', 'Potential', 'Preferred Foot', 'Weak Foot',\n",
      "       'Work Rate', 'Body Type', 'Position', 'Height', 'Weight', 'LS', 'ST',\n",
      "       'RS', 'LW', 'LF', 'CF', 'RF', 'RW', 'LAM', 'CAM', 'RAM', 'LM', 'LCM',\n",
      "       'CM', 'RCM', 'RM', 'LWB', 'LDM', 'CDM', 'RDM', 'RWB', 'LB', 'LCB', 'CB',\n",
      "       'RCB', 'RB', 'Composure', 'Pace', 'Shooting', 'Passing', 'Dribbling',\n",
      "       'Deffending', 'Physical'],\n",
      "      dtype='object')\n",
      "selected 19 features with <class 'sklearn.feature_selection.rfe.RFECV'>\n",
      "running GridSearch for DecisionTreeClassifier\n"
     ]
    },
    {
     "name": "stderr",
     "output_type": "stream",
     "text": [
      "100%|██████████| 6/6 [00:00<00:00, 314.02it/s]"
     ]
    },
    {
     "name": "stdout",
     "output_type": "stream",
     "text": [
      "DecisionTreeClassifier results\n",
      "Best estimator params: {'max_depth': 7, 'max_features': 'sqrt', 'min_samples_leaf': 20, 'min_samples_split': 100, 'splitter': 'best'}\n",
      "Best estimator score: 0.7444795383158085\n",
      "running GridSearch for RandomForestClassifier\n"
     ]
    },
    {
     "name": "stderr",
     "output_type": "stream",
     "text": [
      "\n",
      "100%|██████████| 9/9 [00:11<00:00,  1.28s/it]\n"
     ]
    },
    {
     "name": "stdout",
     "output_type": "stream",
     "text": [
      "RandomForestClassifier results\n",
      "Best estimator params: {'bootstrap': True, 'max_depth': 7, 'max_features': 'sqrt', 'min_samples_leaf': 20, 'min_samples_split': 100, 'n_estimators': 500}\n",
      "Best estimator score: 0.7835260371175135\n",
      "running GridSearch for GradientBoostingClassifier\n"
     ]
    },
    {
     "name": "stderr",
     "output_type": "stream",
     "text": [
      "100%|██████████| 24/24 [01:00<00:00,  2.50s/it]\n"
     ]
    },
    {
     "name": "stdout",
     "output_type": "stream",
     "text": [
      "GradientBoostingClassifier results\n",
      "Best estimator params: {'max_depth': 7, 'max_features': 'sqrt', 'min_samples_leaf': 20, 'min_samples_split': 100, 'n_estimators': 1000, 'subsample': 0.8}\n",
      "Best estimator score: 0.8414928094367189\n",
      "running GridSearch for XGBClassifier\n"
     ]
    },
    {
     "name": "stderr",
     "output_type": "stream",
     "text": [
      "100%|██████████| 8/8 [00:21<00:00,  2.72s/it]\n"
     ]
    },
    {
     "name": "stdout",
     "output_type": "stream",
     "text": [
      "XGBClassifier results\n",
      "Best estimator params: {'n_estimators': 500, 'num_class': 7, 'objective': 'multi:softmax', 'subsample': 0.8}\n",
      "Best estimator score: 0.840100691596026\n",
      "running GridSearch for AdaBoostClassifier\n"
     ]
    },
    {
     "name": "stderr",
     "output_type": "stream",
     "text": [
      "100%|██████████| 4/4 [00:08<00:00,  2.18s/it]\n"
     ]
    },
    {
     "name": "stdout",
     "output_type": "stream",
     "text": [
      "AdaBoostClassifier results\n",
      "Best estimator params: {'n_estimators': 500}\n",
      "Best estimator score: 0.6886332648084026\n",
      "running GridSearch for KNeighborsClassifier\n"
     ]
    },
    {
     "name": "stderr",
     "output_type": "stream",
     "text": [
      "100%|██████████| 5/5 [00:00<00:00, 14.10it/s]\n"
     ]
    },
    {
     "name": "stdout",
     "output_type": "stream",
     "text": [
      "KNeighborsClassifier results\n",
      "Best estimator params: {'n_neighbors': 20}\n",
      "Best estimator score: 0.7141503818612474\n",
      "running GridSearch for MLPClassifier\n"
     ]
    },
    {
     "name": "stderr",
     "output_type": "stream",
     "text": [
      "100%|██████████| 72/72 [03:10<00:00,  2.65s/it]\n"
     ]
    },
    {
     "name": "stdout",
     "output_type": "stream",
     "text": [
      "MLPClassifier results\n",
      "Best estimator params: {'alpha': 0.0001, 'hidden_layer_sizes': (50,), 'learning_rate': 'adaptive', 'max_iter': 500, 'solver': 'adam'}\n",
      "Best estimator score: 0.8455490959188356\n"
     ]
    },
    {
     "data": {
      "image/png": "[encoded data removed]",
      "text/plain": [
       "<Figure size 864x432 with 1 Axes>"
      ]
     },
     "metadata": {
      "needs_background": "light"
     },
     "output_type": "display_data"
    }
   ],
   "source": [
    "experiment_with_data_transform(\n",
    "    transform_type='card_features_pca',\n",
    "    target_type='3_classes',\n",
    "    do_oversampling=True,\n",
    "    sampler=BorderlineSMOTE(),\n",
    "    selector= RFECV(RandomForestClassifier(n_estimators=100), cv=5, step=1, n_jobs=4, verbose=5)\n",
    ")"
   ]
  },
  {
   "cell_type": "code",
   "execution_count": 6,
   "metadata": {},
   "outputs": [],
   "source": []
  }
 ],
 "metadata": {
  "kernelspec": {
   "display_name": "Python 3",
   "language": "python",
   "name": "python3"
  },
  "language_info": {
   "codemirror_mode": {
    "name": "ipython",
    "version": 3
   },
   "file_extension": ".py",
   "mimetype": "text/x-python",
   "name": "python",
   "nbconvert_exporter": "python",
   "pygments_lexer": "ipython3",
   "version": "3.6.8"
  }
 },
 "nbformat": 4,
 "nbformat_minor": 2
}
