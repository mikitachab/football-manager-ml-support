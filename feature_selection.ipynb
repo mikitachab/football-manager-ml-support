{
 "cells": [
  {
   "cell_type": "code",
   "execution_count": null,
   "metadata": {},
   "outputs": [],
   "source": []
  },
  {
   "cell_type": "code",
   "execution_count": null,
   "metadata": {},
   "outputs": [],
   "source": [
    "def k_best_selector_expriment(data, model, start_k, end_k):\n",
    "    fscores = OrderedDict()\n",
    "    for k in trange(start_k, end_k):\n",
    "        k_best_selector = SelectKBest(f_classif, k=k)\n",
    "        selected_data = utils.select_features(selector=k_best_selector, data=data)\n",
    "        model_score = eval_model(model, selected_data)\n",
    "        fscores[k] = model_score['fscore'] \n",
    "    return fscores\n",
    "        \n",
    "def plot_select_k_best_results(fscores): \n",
    "    plt.figure(figsize=(12,6))\n",
    "    sns.scatterplot(data=pd.DataFrame(\n",
    "        data = {\n",
    "            'k_features':list(fscores.keys()), \n",
    "            'f1-score': list(fscores.values())\n",
    "        }), \n",
    "        x='k_features', \n",
    "        y='f1-score'\n",
    "    )\n",
    "    \n",
    "def main_k_best(estimator, target_type='default'):\n",
    "    fifa_data = preprocess_fifa_data(pd.read_csv('csv/data.csv'), target_type)\n",
    "    learning_data = setup_learning_data(fifa_data)\n",
    "    fscores = k_best_selector_expriment(\n",
    "        data=learning_data, \n",
    "        model=estimator,\n",
    "        start_k = 1,\n",
    "        end_k = 48 \n",
    "    )\n",
    "    plot_select_k_best_results(fscores)"
   ]
  },
  {
   "cell_type": "code",
   "execution_count": null,
   "metadata": {},
   "outputs": [],
   "source": [
    "main_k_best(\n",
    "    estimator=RandomForestClassifier(n_estimators=200), \n",
    "    target_type='default'\n",
    ")"
   ]
  },
  {
   "cell_type": "code",
   "execution_count": null,
   "metadata": {},
   "outputs": [],
   "source": [
    "def rfecv_experiment(estimator):\n",
    "    fifa_data = get_fifa_data('3_classes')\n",
    "    learning_data = setup_learning_data(fifa_data)\n",
    "    rfecv = RFECV(estimator, cv=3, step=1, n_jobs=4, verbose=5)\n",
    "    selected_data = utils.select_features(selector=rfecv, data=learning_data)\n",
    "    print('score', rfecv.score(learning_data['x_test'], learning_data['y_test']))"
   ]
  },
  {
   "cell_type": "code",
   "execution_count": null,
   "metadata": {},
   "outputs": [],
   "source": [
    "rfecv_experiment(estimator=RandomForestClassifier(n_estimators=100))"
   ]
  }
 ],
 "metadata": {
  "kernelspec": {
   "display_name": "Python 3",
   "language": "python",
   "name": "python3"
  },
  "language_info": {
   "codemirror_mode": {
    "name": "ipython",
    "version": 3
   },
   "file_extension": ".py",
   "mimetype": "text/x-python",
   "name": "python",
   "nbconvert_exporter": "python",
   "pygments_lexer": "ipython3",
   "version": "3.6.8"
  }
 },
 "nbformat": 4,
 "nbformat_minor": 2
}
