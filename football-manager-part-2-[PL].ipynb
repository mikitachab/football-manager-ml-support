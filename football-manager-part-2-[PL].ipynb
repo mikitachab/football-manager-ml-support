{
 "cells": [
  {
   "cell_type": "markdown",
   "metadata": {},
   "source": [
    "## Imports"
   ]
  },
  {
   "cell_type": "code",
   "execution_count": 32,
   "metadata": {},
   "outputs": [],
   "source": [
    "import numpy as np\n",
    "import pandas as pd\n",
    "import matplotlib.pyplot as plt\n",
    "import seaborn as sns\n",
    "\n",
    "from sklearn.model_selection import train_test_split  \n",
    "from sklearn.feature_selection import VarianceThreshold\n",
    "%matplotlib inline"
   ]
  },
  {
   "cell_type": "code",
   "execution_count": 33,
   "metadata": {},
   "outputs": [],
   "source": [
    "fifa_data = pd.read_csv('new_data.csv')"
   ]
  },
  {
   "cell_type": "code",
   "execution_count": 34,
   "metadata": {},
   "outputs": [],
   "source": [
    "cols =  ['Preferred Foot', 'Body Type' , 'Work Rate', 'Position']\n",
    "for col in cols:\n",
    "    fifa_data[col] = fifa_data[col].astype('category')"
   ]
  },
  {
   "cell_type": "code",
   "execution_count": 35,
   "metadata": {},
   "outputs": [
    {
     "name": "stdout",
     "output_type": "stream",
     "text": [
      "<class 'pandas.core.frame.DataFrame'>\n",
      "RangeIndex: 16122 entries, 0 to 16121\n",
      "Data columns (total 66 columns):\n",
      "Age                         16122 non-null int64\n",
      "Potential                   16122 non-null int64\n",
      "Preferred Foot              16122 non-null category\n",
      "International Reputation    16122 non-null float64\n",
      "Weak Foot                   16122 non-null float64\n",
      "Skill Moves                 16122 non-null float64\n",
      "Work Rate                   16122 non-null category\n",
      "Body Type                   16122 non-null category\n",
      "Position                    16122 non-null category\n",
      "Height                      16122 non-null float64\n",
      "Weight                      16122 non-null float64\n",
      "LS                          16122 non-null int64\n",
      "ST                          16122 non-null int64\n",
      "RS                          16122 non-null int64\n",
      "LW                          16122 non-null int64\n",
      "LF                          16122 non-null int64\n",
      "CF                          16122 non-null int64\n",
      "RF                          16122 non-null int64\n",
      "RW                          16122 non-null int64\n",
      "LAM                         16122 non-null int64\n",
      "CAM                         16122 non-null int64\n",
      "RAM                         16122 non-null int64\n",
      "LM                          16122 non-null int64\n",
      "LCM                         16122 non-null int64\n",
      "CM                          16122 non-null int64\n",
      "RCM                         16122 non-null int64\n",
      "RM                          16122 non-null int64\n",
      "LWB                         16122 non-null int64\n",
      "LDM                         16122 non-null int64\n",
      "CDM                         16122 non-null int64\n",
      "RDM                         16122 non-null int64\n",
      "RWB                         16122 non-null int64\n",
      "LB                          16122 non-null int64\n",
      "LCB                         16122 non-null int64\n",
      "CB                          16122 non-null int64\n",
      "RCB                         16122 non-null int64\n",
      "RB                          16122 non-null int64\n",
      "Crossing                    16122 non-null float64\n",
      "Finishing                   16122 non-null float64\n",
      "HeadingAccuracy             16122 non-null float64\n",
      "ShortPassing                16122 non-null float64\n",
      "Volleys                     16122 non-null float64\n",
      "Dribbling                   16122 non-null float64\n",
      "Curve                       16122 non-null float64\n",
      "FKAccuracy                  16122 non-null float64\n",
      "LongPassing                 16122 non-null float64\n",
      "BallControl                 16122 non-null float64\n",
      "Acceleration                16122 non-null float64\n",
      "SprintSpeed                 16122 non-null float64\n",
      "Agility                     16122 non-null float64\n",
      "Reactions                   16122 non-null float64\n",
      "Balance                     16122 non-null float64\n",
      "ShotPower                   16122 non-null float64\n",
      "Jumping                     16122 non-null float64\n",
      "Stamina                     16122 non-null float64\n",
      "Strength                    16122 non-null float64\n",
      "LongShots                   16122 non-null float64\n",
      "Aggression                  16122 non-null float64\n",
      "Interceptions               16122 non-null float64\n",
      "Positioning                 16122 non-null float64\n",
      "Vision                      16122 non-null float64\n",
      "Penalties                   16122 non-null float64\n",
      "Composure                   16122 non-null float64\n",
      "Marking                     16122 non-null float64\n",
      "StandingTackle              16122 non-null float64\n",
      "SlidingTackle               16122 non-null float64\n",
      "dtypes: category(4), float64(34), int64(28)\n",
      "memory usage: 7.7 MB\n"
     ]
    }
   ],
   "source": [
    "fifa_data.info()"
   ]
  },
  {
   "cell_type": "code",
   "execution_count": 36,
   "metadata": {},
   "outputs": [],
   "source": [
    "drop_columns = ['International Reputation'] \n",
    "fifa_data.drop(columns=drop_columns, inplace=True)"
   ]
  },
  {
   "cell_type": "code",
   "execution_count": 37,
   "metadata": {},
   "outputs": [],
   "source": [
    "target = fifa_data['Position']\n",
    "fifa_data = fifa_data.drop('Position', axis=1)\n",
    "fifa_no_category = fifa_data.select_dtypes(exclude=['category'])"
   ]
  },
  {
   "cell_type": "markdown",
   "metadata": {},
   "source": [
    "### Removing Constant features"
   ]
  },
  {
   "cell_type": "code",
   "execution_count": 38,
   "metadata": {},
   "outputs": [],
   "source": [
    "constant_filter = VarianceThreshold(threshold=0)"
   ]
  },
  {
   "cell_type": "code",
   "execution_count": 39,
   "metadata": {},
   "outputs": [
    {
     "data": {
      "text/plain": [
       "VarianceThreshold(threshold=0)"
      ]
     },
     "execution_count": 39,
     "metadata": {},
     "output_type": "execute_result"
    }
   ],
   "source": [
    "constant_filter.fit(fifa_no_category)"
   ]
  },
  {
   "cell_type": "code",
   "execution_count": 40,
   "metadata": {},
   "outputs": [
    {
     "data": {
      "text/plain": [
       "[]"
      ]
     },
     "execution_count": 40,
     "metadata": {},
     "output_type": "execute_result"
    }
   ],
   "source": [
    "selected_features =  fifa_no_category.columns[constant_filter.get_support()]\n",
    "constant_features = [feature for feature in fifa_no_category if feature not in selected_features]\n",
    "constant_features"
   ]
  },
  {
   "cell_type": "markdown",
   "metadata": {},
   "source": [
    "### wynik wskazuje że brak stałycj cech w zbiorze"
   ]
  },
  {
   "cell_type": "markdown",
   "metadata": {},
   "source": [
    "### Removing Quasi-Constant features"
   ]
  },
  {
   "cell_type": "code",
   "execution_count": 41,
   "metadata": {},
   "outputs": [
    {
     "data": {
      "text/plain": [
       "[]"
      ]
     },
     "execution_count": 41,
     "metadata": {},
     "output_type": "execute_result"
    }
   ],
   "source": [
    "VARIANCE_THRESHHOLD = 0.2\n",
    "qconstant_filter = VarianceThreshold(threshold=VARIANCE_THRESHHOLD)\n",
    "qconstant_filter.fit(fifa_no_category)\n",
    "selected_features =  fifa_no_category.columns[qconstant_filter.get_support()]\n",
    "qconstant_features = [feature for feature in fifa_no_category if feature not in selected_features]\n",
    "qconstant_features"
   ]
  },
  {
   "cell_type": "markdown",
   "metadata": {},
   "source": [
    "### wynik wskazuje że brak kwazi-stałycj cech w zbiorze"
   ]
  },
  {
   "cell_type": "markdown",
   "metadata": {},
   "source": [
    "### Usuwanie Cech dublikatów"
   ]
  },
  {
   "cell_type": "code",
   "execution_count": 42,
   "metadata": {},
   "outputs": [
    {
     "data": {
      "text/plain": [
       "(16122, 64)"
      ]
     },
     "execution_count": 42,
     "metadata": {},
     "output_type": "execute_result"
    }
   ],
   "source": [
    "fifa_data.shape"
   ]
  },
  {
   "cell_type": "code",
   "execution_count": 43,
   "metadata": {},
   "outputs": [],
   "source": [
    "fifa_T = fifa_data.T"
   ]
  },
  {
   "cell_type": "code",
   "execution_count": 44,
   "metadata": {},
   "outputs": [
    {
     "data": {
      "text/plain": [
       "(64, 16122)"
      ]
     },
     "execution_count": 44,
     "metadata": {},
     "output_type": "execute_result"
    }
   ],
   "source": [
    "fifa_T.shape"
   ]
  },
  {
   "cell_type": "code",
   "execution_count": 45,
   "metadata": {},
   "outputs": [],
   "source": [
    "fifa_T_no_duplictes = fifa_T.drop_duplicates(keep='first')"
   ]
  },
  {
   "cell_type": "code",
   "execution_count": 46,
   "metadata": {},
   "outputs": [
    {
     "data": {
      "text/plain": [
       "(48, 16122)"
      ]
     },
     "execution_count": 46,
     "metadata": {},
     "output_type": "execute_result"
    }
   ],
   "source": [
    "fifa_T_no_duplictes.shape"
   ]
  },
  {
   "cell_type": "code",
   "execution_count": 47,
   "metadata": {},
   "outputs": [],
   "source": [
    "fifa_no_duplictes_features = fifa_T_no_duplictes.T"
   ]
  },
  {
   "cell_type": "code",
   "execution_count": 48,
   "metadata": {},
   "outputs": [
    {
     "data": {
      "text/plain": [
       "Index(['Age', 'Potential', 'Preferred Foot', 'Weak Foot', 'Skill Moves',\n",
       "       'Work Rate', 'Body Type', 'Height', 'Weight', 'LS', 'LW', 'LF', 'LAM',\n",
       "       'LM', 'LCM', 'LWB', 'LDM', 'LB', 'LCB', 'Crossing', 'Finishing',\n",
       "       'HeadingAccuracy', 'ShortPassing', 'Volleys', 'Dribbling', 'Curve',\n",
       "       'FKAccuracy', 'LongPassing', 'BallControl', 'Acceleration',\n",
       "       'SprintSpeed', 'Agility', 'Reactions', 'Balance', 'ShotPower',\n",
       "       'Jumping', 'Stamina', 'Strength', 'LongShots', 'Aggression',\n",
       "       'Interceptions', 'Positioning', 'Vision', 'Penalties', 'Composure',\n",
       "       'Marking', 'StandingTackle', 'SlidingTackle'],\n",
       "      dtype='object')"
      ]
     },
     "execution_count": 48,
     "metadata": {},
     "output_type": "execute_result"
    }
   ],
   "source": [
    "fifa_no_duplictes_features.columns"
   ]
  },
  {
   "cell_type": "code",
   "execution_count": 49,
   "metadata": {},
   "outputs": [
    {
     "data": {
      "text/plain": [
       "['ST',\n",
       " 'RS',\n",
       " 'CF',\n",
       " 'RF',\n",
       " 'RW',\n",
       " 'CAM',\n",
       " 'RAM',\n",
       " 'CM',\n",
       " 'RCM',\n",
       " 'RM',\n",
       " 'CDM',\n",
       " 'RDM',\n",
       " 'RWB',\n",
       " 'CB',\n",
       " 'RCB',\n",
       " 'RB']"
      ]
     },
     "execution_count": 49,
     "metadata": {},
     "output_type": "execute_result"
    }
   ],
   "source": [
    "duplictes_features = [feature for feature in fifa_data.columns if feature not in \n",
    "                                                                  fifa_no_duplictes_features.columns ] \n",
    "duplictes_features"
   ]
  },
  {
   "cell_type": "markdown",
   "metadata": {},
   "source": [
    "### Usuwamy cechi zdublowane"
   ]
  },
  {
   "cell_type": "code",
   "execution_count": 50,
   "metadata": {},
   "outputs": [],
   "source": [
    "fifa_data.drop(columns=duplictes_features, axis=1, inplace=True)"
   ]
  },
  {
   "cell_type": "code",
   "execution_count": 51,
   "metadata": {},
   "outputs": [
    {
     "data": {
      "text/plain": [
       "(16122, 48)"
      ]
     },
     "execution_count": 51,
     "metadata": {},
     "output_type": "execute_result"
    }
   ],
   "source": [
    "fifa_data.shape"
   ]
  },
  {
   "cell_type": "markdown",
   "metadata": {},
   "source": [
    "### Removing Correlated Features"
   ]
  },
  {
   "cell_type": "code",
   "execution_count": 52,
   "metadata": {},
   "outputs": [
    {
     "data": {
      "text/plain": [
       "<matplotlib.axes._subplots.AxesSubplot at 0x7fd427e088d0>"
      ]
     },
     "execution_count": 52,
     "metadata": {},
     "output_type": "execute_result"
    },
    {
     "data": {
      "image/png": "[encoded data removed]",
      "text/plain": [
       "<Figure size 1728x1728 with 2 Axes>"
      ]
     },
     "metadata": {
      "needs_background": "light"
     },
     "output_type": "display_data"
    }
   ],
   "source": [
    "corr = fifa_data.corr()\n",
    "\n",
    "plt.figure(figsize=(24,24))\n",
    "sns.heatmap(corr, \n",
    "        xticklabels=corr.columns,\n",
    "        yticklabels=corr.columns,\n",
    "        cmap='coolwarm')"
   ]
  },
  {
   "cell_type": "code",
   "execution_count": 53,
   "metadata": {},
   "outputs": [],
   "source": [
    "CORRELATION_THRESHLOD = 0.7\n",
    "correlated_features = set()\n",
    "for i in range(len(corr.columns)):  \n",
    "    for j in range(i):\n",
    "        if abs(corr.iloc[i, j]) > CORRELATION_THRESHLOD:\n",
    "            colname = corr.columns[i]\n",
    "            correlated_features.add(colname)"
   ]
  },
  {
   "cell_type": "code",
   "execution_count": 54,
   "metadata": {
    "scrolled": true
   },
   "outputs": [
    {
     "data": {
      "text/plain": [
       "35"
      ]
     },
     "execution_count": 54,
     "metadata": {},
     "output_type": "execute_result"
    }
   ],
   "source": [
    "len(correlated_features)"
   ]
  },
  {
   "cell_type": "code",
   "execution_count": 55,
   "metadata": {
    "scrolled": false
   },
   "outputs": [
    {
     "data": {
      "text/plain": [
       "{'Aggression',\n",
       " 'Agility',\n",
       " 'Balance',\n",
       " 'BallControl',\n",
       " 'Composure',\n",
       " 'Crossing',\n",
       " 'Curve',\n",
       " 'Dribbling',\n",
       " 'FKAccuracy',\n",
       " 'Finishing',\n",
       " 'Interceptions',\n",
       " 'LAM',\n",
       " 'LB',\n",
       " 'LCB',\n",
       " 'LCM',\n",
       " 'LDM',\n",
       " 'LF',\n",
       " 'LM',\n",
       " 'LW',\n",
       " 'LWB',\n",
       " 'LongPassing',\n",
       " 'LongShots',\n",
       " 'Marking',\n",
       " 'Penalties',\n",
       " 'Positioning',\n",
       " 'Reactions',\n",
       " 'ShortPassing',\n",
       " 'ShotPower',\n",
       " 'SlidingTackle',\n",
       " 'SprintSpeed',\n",
       " 'StandingTackle',\n",
       " 'Strength',\n",
       " 'Vision',\n",
       " 'Volleys',\n",
       " 'Weight'}"
      ]
     },
     "execution_count": 55,
     "metadata": {},
     "output_type": "execute_result"
    }
   ],
   "source": [
    "correlated_features"
   ]
  },
  {
   "cell_type": "code",
   "execution_count": 56,
   "metadata": {},
   "outputs": [],
   "source": [
    "new_fifa_data = fifa_data.drop(columns=correlated_features, axis=1)"
   ]
  },
  {
   "cell_type": "code",
   "execution_count": 57,
   "metadata": {},
   "outputs": [
    {
     "data": {
      "text/plain": [
       "<matplotlib.axes._subplots.AxesSubplot at 0x7fd3f91485c0>"
      ]
     },
     "execution_count": 57,
     "metadata": {},
     "output_type": "execute_result"
    },
    {
     "data": {
      "image/png": "[encoded data removed]",
      "text/plain": [
       "<Figure size 432x288 with 2 Axes>"
      ]
     },
     "metadata": {
      "needs_background": "light"
     },
     "output_type": "display_data"
    }
   ],
   "source": [
    "sns.heatmap(new_fifa_data.corr(), cmap='coolwarm')"
   ]
  },
  {
   "cell_type": "code",
   "execution_count": 64,
   "metadata": {},
   "outputs": [
    {
     "name": "stdout",
     "output_type": "stream",
     "text": [
      "<class 'pandas.core.frame.DataFrame'>\n",
      "RangeIndex: 16122 entries, 0 to 16121\n",
      "Data columns (total 13 columns):\n",
      "Age                16122 non-null int64\n",
      "Potential          16122 non-null int64\n",
      "Preferred Foot     16122 non-null category\n",
      "Weak Foot          16122 non-null float64\n",
      "Skill Moves        16122 non-null float64\n",
      "Work Rate          16122 non-null category\n",
      "Body Type          16122 non-null category\n",
      "Height             16122 non-null float64\n",
      "LS                 16122 non-null int64\n",
      "HeadingAccuracy    16122 non-null float64\n",
      "Acceleration       16122 non-null float64\n",
      "Jumping            16122 non-null float64\n",
      "Stamina            16122 non-null float64\n",
      "dtypes: category(3), float64(7), int64(3)\n",
      "memory usage: 1.3 MB\n"
     ]
    }
   ],
   "source": [
    "new_fifa_data.info()"
   ]
  },
  {
   "cell_type": "code",
   "execution_count": 62,
   "metadata": {},
   "outputs": [],
   "source": []
  },
  {
   "cell_type": "code",
   "execution_count": 95,
   "metadata": {},
   "outputs": [],
   "source": [
    "from sklearn import tree\n",
    "from sklearn.preprocessing import LabelEncoder\n",
    "from sklearn.metrics import classification_report\n",
    "from sklearn.ensemble import RandomForestClassifier"
   ]
  },
  {
   "cell_type": "code",
   "execution_count": 67,
   "metadata": {},
   "outputs": [],
   "source": [
    "label_encoder = LabelEncoder()"
   ]
  },
  {
   "cell_type": "code",
   "execution_count": 70,
   "metadata": {},
   "outputs": [],
   "source": [
    "fifa_categories = new_fifa_data.select_dtypes('category')"
   ]
  },
  {
   "cell_type": "code",
   "execution_count": 77,
   "metadata": {},
   "outputs": [],
   "source": [
    "def encode_labels(col):\n",
    "    return label_encoder.fit_transform(col)"
   ]
  },
  {
   "cell_type": "code",
   "execution_count": 81,
   "metadata": {},
   "outputs": [],
   "source": [
    "new_fifa_data[fifa_categories.columns] = new_fifa_data[fifa_categories.columns].apply(encode_labels)"
   ]
  },
  {
   "cell_type": "code",
   "execution_count": 85,
   "metadata": {},
   "outputs": [],
   "source": [
    " X_train, X_test, y_train, y_test = train_test_split(\n",
    "        new_fifa_data, target, test_size=0.33, random_state=42)"
   ]
  },
  {
   "cell_type": "code",
   "execution_count": 86,
   "metadata": {},
   "outputs": [],
   "source": [
    "decision_tree_model = tree.DecisionTreeClassifier()"
   ]
  },
  {
   "cell_type": "code",
   "execution_count": 87,
   "metadata": {},
   "outputs": [
    {
     "data": {
      "text/html": [
       "<div>\n",
       "<style scoped>\n",
       "    .dataframe tbody tr th:only-of-type {\n",
       "        vertical-align: middle;\n",
       "    }\n",
       "\n",
       "    .dataframe tbody tr th {\n",
       "        vertical-align: top;\n",
       "    }\n",
       "\n",
       "    .dataframe thead th {\n",
       "        text-align: right;\n",
       "    }\n",
       "</style>\n",
       "<table border=\"1\" class=\"dataframe\">\n",
       "  <thead>\n",
       "    <tr style=\"text-align: right;\">\n",
       "      <th></th>\n",
       "      <th>Age</th>\n",
       "      <th>Potential</th>\n",
       "      <th>Preferred Foot</th>\n",
       "      <th>Weak Foot</th>\n",
       "      <th>Skill Moves</th>\n",
       "      <th>Work Rate</th>\n",
       "      <th>Body Type</th>\n",
       "      <th>Height</th>\n",
       "      <th>LS</th>\n",
       "      <th>HeadingAccuracy</th>\n",
       "      <th>Acceleration</th>\n",
       "      <th>Jumping</th>\n",
       "      <th>Stamina</th>\n",
       "    </tr>\n",
       "  </thead>\n",
       "  <tbody>\n",
       "    <tr>\n",
       "      <th>0</th>\n",
       "      <td>31</td>\n",
       "      <td>94</td>\n",
       "      <td>0</td>\n",
       "      <td>4.0</td>\n",
       "      <td>4.0</td>\n",
       "      <td>8</td>\n",
       "      <td>1</td>\n",
       "      <td>170.18</td>\n",
       "      <td>88</td>\n",
       "      <td>70.0</td>\n",
       "      <td>91.0</td>\n",
       "      <td>68.0</td>\n",
       "      <td>72.0</td>\n",
       "    </tr>\n",
       "    <tr>\n",
       "      <th>1</th>\n",
       "      <td>33</td>\n",
       "      <td>94</td>\n",
       "      <td>1</td>\n",
       "      <td>4.0</td>\n",
       "      <td>5.0</td>\n",
       "      <td>1</td>\n",
       "      <td>1</td>\n",
       "      <td>187.96</td>\n",
       "      <td>91</td>\n",
       "      <td>89.0</td>\n",
       "      <td>89.0</td>\n",
       "      <td>95.0</td>\n",
       "      <td>88.0</td>\n",
       "    </tr>\n",
       "    <tr>\n",
       "      <th>2</th>\n",
       "      <td>26</td>\n",
       "      <td>93</td>\n",
       "      <td>1</td>\n",
       "      <td>5.0</td>\n",
       "      <td>5.0</td>\n",
       "      <td>2</td>\n",
       "      <td>1</td>\n",
       "      <td>175.26</td>\n",
       "      <td>84</td>\n",
       "      <td>62.0</td>\n",
       "      <td>94.0</td>\n",
       "      <td>61.0</td>\n",
       "      <td>81.0</td>\n",
       "    </tr>\n",
       "    <tr>\n",
       "      <th>3</th>\n",
       "      <td>27</td>\n",
       "      <td>92</td>\n",
       "      <td>1</td>\n",
       "      <td>5.0</td>\n",
       "      <td>4.0</td>\n",
       "      <td>0</td>\n",
       "      <td>1</td>\n",
       "      <td>180.34</td>\n",
       "      <td>82</td>\n",
       "      <td>55.0</td>\n",
       "      <td>78.0</td>\n",
       "      <td>63.0</td>\n",
       "      <td>90.0</td>\n",
       "    </tr>\n",
       "    <tr>\n",
       "      <th>4</th>\n",
       "      <td>27</td>\n",
       "      <td>91</td>\n",
       "      <td>1</td>\n",
       "      <td>4.0</td>\n",
       "      <td>4.0</td>\n",
       "      <td>2</td>\n",
       "      <td>1</td>\n",
       "      <td>172.72</td>\n",
       "      <td>83</td>\n",
       "      <td>61.0</td>\n",
       "      <td>94.0</td>\n",
       "      <td>56.0</td>\n",
       "      <td>83.0</td>\n",
       "    </tr>\n",
       "  </tbody>\n",
       "</table>\n",
       "</div>"
      ],
      "text/plain": [
       "   Age  Potential  Preferred Foot  Weak Foot  Skill Moves  Work Rate  \\\n",
       "0   31         94               0        4.0          4.0          8   \n",
       "1   33         94               1        4.0          5.0          1   \n",
       "2   26         93               1        5.0          5.0          2   \n",
       "3   27         92               1        5.0          4.0          0   \n",
       "4   27         91               1        4.0          4.0          2   \n",
       "\n",
       "   Body Type  Height  LS  HeadingAccuracy  Acceleration  Jumping  Stamina  \n",
       "0          1  170.18  88             70.0          91.0     68.0     72.0  \n",
       "1          1  187.96  91             89.0          89.0     95.0     88.0  \n",
       "2          1  175.26  84             62.0          94.0     61.0     81.0  \n",
       "3          1  180.34  82             55.0          78.0     63.0     90.0  \n",
       "4          1  172.72  83             61.0          94.0     56.0     83.0  "
      ]
     },
     "execution_count": 87,
     "metadata": {},
     "output_type": "execute_result"
    }
   ],
   "source": [
    "new_fifa_data.head()"
   ]
  },
  {
   "cell_type": "code",
   "execution_count": 92,
   "metadata": {},
   "outputs": [
    {
     "data": {
      "text/plain": [
       "DecisionTreeClassifier(class_weight=None, criterion='gini', max_depth=None,\n",
       "            max_features=None, max_leaf_nodes=None,\n",
       "            min_impurity_decrease=0.0, min_impurity_split=None,\n",
       "            min_samples_leaf=1, min_samples_split=2,\n",
       "            min_weight_fraction_leaf=0.0, presort=False, random_state=None,\n",
       "            splitter='best')"
      ]
     },
     "execution_count": 92,
     "metadata": {},
     "output_type": "execute_result"
    }
   ],
   "source": [
    "decision_tree_model.fit(X_train, y_train)"
   ]
  },
  {
   "cell_type": "code",
   "execution_count": 93,
   "metadata": {},
   "outputs": [],
   "source": [
    "pred = decision_tree_model.predict(X_test)"
   ]
  },
  {
   "cell_type": "code",
   "execution_count": 94,
   "metadata": {},
   "outputs": [
    {
     "name": "stdout",
     "output_type": "stream",
     "text": [
      "              precision    recall  f1-score   support\n",
      "\n",
      "          CB       0.50      0.48      0.49       581\n",
      "          CF       0.00      0.00      0.00        20\n",
      "          CM       0.40      0.35      0.37      1138\n",
      "          LB       0.47      0.50      0.48       659\n",
      "          LF       0.10      0.11      0.11       194\n",
      "          LM       0.17      0.20      0.19       546\n",
      "          RB       0.39      0.40      0.39       677\n",
      "          RF       0.13      0.14      0.14       195\n",
      "          RM       0.18      0.18      0.18       608\n",
      "          ST       0.47      0.47      0.47       703\n",
      "\n",
      "   micro avg       0.35      0.35      0.35      5321\n",
      "   macro avg       0.28      0.28      0.28      5321\n",
      "weighted avg       0.36      0.35      0.35      5321\n",
      "\n"
     ]
    }
   ],
   "source": [
    "print(classification_report(y_test, pred))"
   ]
  },
  {
   "cell_type": "code",
   "execution_count": 98,
   "metadata": {},
   "outputs": [],
   "source": [
    "forest = RandomForestClassifier(n_estimators=100)"
   ]
  },
  {
   "cell_type": "code",
   "execution_count": 99,
   "metadata": {},
   "outputs": [
    {
     "data": {
      "text/plain": [
       "RandomForestClassifier(bootstrap=True, class_weight=None, criterion='gini',\n",
       "            max_depth=None, max_features='auto', max_leaf_nodes=None,\n",
       "            min_impurity_decrease=0.0, min_impurity_split=None,\n",
       "            min_samples_leaf=1, min_samples_split=2,\n",
       "            min_weight_fraction_leaf=0.0, n_estimators=100, n_jobs=None,\n",
       "            oob_score=False, random_state=None, verbose=0,\n",
       "            warm_start=False)"
      ]
     },
     "execution_count": 99,
     "metadata": {},
     "output_type": "execute_result"
    }
   ],
   "source": [
    "forest.fit(X_train, y_train)"
   ]
  },
  {
   "cell_type": "code",
   "execution_count": 100,
   "metadata": {},
   "outputs": [],
   "source": [
    "forest_pred = forest.predict(X_test)"
   ]
  },
  {
   "cell_type": "code",
   "execution_count": 101,
   "metadata": {},
   "outputs": [
    {
     "name": "stdout",
     "output_type": "stream",
     "text": [
      "              precision    recall  f1-score   support\n",
      "\n",
      "          CB       0.56      0.68      0.61       581\n",
      "          CF       0.00      0.00      0.00        20\n",
      "          CM       0.46      0.61      0.52      1138\n",
      "          LB       0.60      0.61      0.61       659\n",
      "          LF       0.05      0.01      0.01       194\n",
      "          LM       0.24      0.18      0.20       546\n",
      "          RB       0.49      0.50      0.50       677\n",
      "          RF       0.12      0.02      0.03       195\n",
      "          RM       0.26      0.15      0.19       608\n",
      "          ST       0.55      0.73      0.63       703\n",
      "\n",
      "   micro avg       0.48      0.48      0.48      5321\n",
      "   macro avg       0.33      0.35      0.33      5321\n",
      "weighted avg       0.43      0.48      0.44      5321\n",
      "\n"
     ]
    },
    {
     "name": "stderr",
     "output_type": "stream",
     "text": [
      "/home/mikita/.local/lib/python3.6/site-packages/sklearn/metrics/classification.py:1143: UndefinedMetricWarning: Precision and F-score are ill-defined and being set to 0.0 in labels with no predicted samples.\n",
      "  'precision', 'predicted', average, warn_for)\n"
     ]
    }
   ],
   "source": [
    "print(classification_report(y_test, forest_pred))"
   ]
  },
  {
   "cell_type": "code",
   "execution_count": 106,
   "metadata": {},
   "outputs": [
    {
     "data": {
      "text/plain": [
       "74"
      ]
     },
     "execution_count": 106,
     "metadata": {},
     "output_type": "execute_result"
    }
   ],
   "source": [
    "len([p for p in target if p == 'CF'])"
   ]
  },
  {
   "cell_type": "code",
   "execution_count": 107,
   "metadata": {},
   "outputs": [
    {
     "data": {
      "text/plain": [
       "16122"
      ]
     },
     "execution_count": 107,
     "metadata": {},
     "output_type": "execute_result"
    }
   ],
   "source": [
    "len(target)"
   ]
  },
  {
   "cell_type": "code",
   "execution_count": 108,
   "metadata": {},
   "outputs": [
    {
     "data": {
      "text/plain": [
       "<matplotlib.axes._subplots.AxesSubplot at 0x7fd3f8f41c88>"
      ]
     },
     "execution_count": 108,
     "metadata": {},
     "output_type": "execute_result"
    },
    {
     "data": {
      "image/png": "[encoded data removed]",
      "text/plain": [
       "<Figure size 432x288 with 1 Axes>"
      ]
     },
     "metadata": {
      "needs_background": "light"
     },
     "output_type": "display_data"
    }
   ],
   "source": [
    "sns.countplot(target)"
   ]
  },
  {
   "cell_type": "code",
   "execution_count": null,
   "metadata": {},
   "outputs": [],
   "source": []
  }
 ],
 "metadata": {
  "kernelspec": {
   "display_name": "Python 3",
   "language": "python",
   "name": "python3"
  },
  "language_info": {
   "codemirror_mode": {
    "name": "ipython",
    "version": 3
   },
   "file_extension": ".py",
   "mimetype": "text/x-python",
   "name": "python",
   "nbconvert_exporter": "python",
   "pygments_lexer": "ipython3",
   "version": "3.6.8"
  }
 },
 "nbformat": 4,
 "nbformat_minor": 2
}
