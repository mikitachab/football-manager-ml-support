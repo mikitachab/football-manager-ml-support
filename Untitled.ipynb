{
 "cells": [
  {
   "cell_type": "code",
   "execution_count": 83,
   "metadata": {},
   "outputs": [],
   "source": [
    "import numpy as np\n",
    "import pandas as pd\n",
    "import matplotlib.pyplot as plt\n",
    "import seaborn as sns\n",
    "from tqdm import trange\n",
    "\n",
    "from data_preaparation import run_data_preparation_pipeline\n",
    "from estimators import Estimator, estimators\n",
    "\n",
    "from sklearn.model_selection import train_test_split\n",
    "from sklearn.preprocessing import RobustScaler, StandardScaler\n",
    "from sklearn.ensemble import RandomForestClassifier\n",
    "from sklearn.metrics import classification_report\n",
    "from sklearn.metrics import precision_recall_fscore_support as score\n",
    "from sklearn.feature_selection import RFECV, SelectKBest, f_classif\n",
    "from sklearn.tree import DecisionTreeClassifier\n",
    "from sklearn.feature_selection import VarianceThreshold\n",
    "from sklearn.preprocessing import LabelEncoder\n",
    "# from sklearn.model_selection import GridSearchCV\n",
    "\n",
    "from imblearn.under_sampling import ClusterCentroids, RandomUnderSampler, TomekLinks\n",
    "from imblearn.over_sampling import BorderlineSMOTE\n",
    "\n",
    "from pprint import pprint\n",
    "\n",
    "from hypopt import GridSearch  # provide posibility for search with validation set"
   ]
  },
  {
   "cell_type": "code",
   "execution_count": 84,
   "metadata": {},
   "outputs": [],
   "source": [
    "fifa_data = pd.read_csv('csv/data.csv')"
   ]
  },
  {
   "cell_type": "markdown",
   "metadata": {},
   "source": [
    "## Przygotowanie Danych "
   ]
  },
  {
   "cell_type": "code",
   "execution_count": 85,
   "metadata": {
    "scrolled": true
   },
   "outputs": [
    {
     "name": "stderr",
     "output_type": "stream",
     "text": [
      "INFO:data_prepare_pipeline:run data preparation pipeline\n",
      "INFO:data_prepare_pipeline:droping columns\n",
      "INFO:data_prepare_pipeline:droping records with nan values\n",
      "INFO:data_prepare_pipeline:droping goalkeepers\n",
      "INFO:data_prepare_pipeline:transform data\n",
      "INFO:data_prepare_pipeline:transform column Body Type\n",
      "INFO:data_prepare_pipeline:transform column Height\n",
      "INFO:data_prepare_pipeline:transform column Weight\n",
      "INFO:data_prepare_pipeline:transform column Position\n",
      "INFO:data_prepare_pipeline:transform column LS\n",
      "INFO:data_prepare_pipeline:transform column ST\n",
      "INFO:data_prepare_pipeline:transform column RS\n",
      "INFO:data_prepare_pipeline:transform column LW\n",
      "INFO:data_prepare_pipeline:transform column LF\n",
      "INFO:data_prepare_pipeline:transform column CF\n",
      "INFO:data_prepare_pipeline:transform column RF\n",
      "INFO:data_prepare_pipeline:transform column RW\n",
      "INFO:data_prepare_pipeline:transform column LAM\n",
      "INFO:data_prepare_pipeline:transform column CAM\n",
      "INFO:data_prepare_pipeline:transform column RAM\n",
      "INFO:data_prepare_pipeline:transform column LM\n",
      "INFO:data_prepare_pipeline:transform column LCM\n",
      "INFO:data_prepare_pipeline:transform column CM\n",
      "INFO:data_prepare_pipeline:transform column RCM\n",
      "INFO:data_prepare_pipeline:transform column RM\n",
      "INFO:data_prepare_pipeline:transform column LWB\n",
      "INFO:data_prepare_pipeline:transform column LDM\n",
      "INFO:data_prepare_pipeline:transform column CDM\n",
      "INFO:data_prepare_pipeline:transform column RDM\n",
      "INFO:data_prepare_pipeline:transform column RWB\n",
      "INFO:data_prepare_pipeline:transform column LB\n",
      "INFO:data_prepare_pipeline:transform column LCB\n",
      "INFO:data_prepare_pipeline:transform column CB\n",
      "INFO:data_prepare_pipeline:transform column RCB\n",
      "INFO:data_prepare_pipeline:transform column RB\n"
     ]
    }
   ],
   "source": [
    "prepared_fifa_data = run_data_preparation_pipeline(fifa_data)"
   ]
  },
  {
   "cell_type": "code",
   "execution_count": 86,
   "metadata": {
    "scrolled": true
   },
   "outputs": [
    {
     "name": "stdout",
     "output_type": "stream",
     "text": [
      "<class 'pandas.core.frame.DataFrame'>\n",
      "Int64Index: 16122 entries, 0 to 18206\n",
      "Data columns (total 65 columns):\n",
      "Age                16122 non-null int64\n",
      "Overall            16122 non-null int64\n",
      "Potential          16122 non-null int64\n",
      "Preferred Foot     16122 non-null object\n",
      "Weak Foot          16122 non-null float64\n",
      "Work Rate          16122 non-null object\n",
      "Body Type          16122 non-null object\n",
      "Position           16122 non-null object\n",
      "Height             16122 non-null float64\n",
      "Weight             16122 non-null float64\n",
      "LS                 16122 non-null int64\n",
      "ST                 16122 non-null int64\n",
      "RS                 16122 non-null int64\n",
      "LW                 16122 non-null int64\n",
      "LF                 16122 non-null int64\n",
      "CF                 16122 non-null int64\n",
      "RF                 16122 non-null int64\n",
      "RW                 16122 non-null int64\n",
      "LAM                16122 non-null int64\n",
      "CAM                16122 non-null int64\n",
      "RAM                16122 non-null int64\n",
      "LM                 16122 non-null int64\n",
      "LCM                16122 non-null int64\n",
      "CM                 16122 non-null int64\n",
      "RCM                16122 non-null int64\n",
      "RM                 16122 non-null int64\n",
      "LWB                16122 non-null int64\n",
      "LDM                16122 non-null int64\n",
      "CDM                16122 non-null int64\n",
      "RDM                16122 non-null int64\n",
      "RWB                16122 non-null int64\n",
      "LB                 16122 non-null int64\n",
      "LCB                16122 non-null int64\n",
      "CB                 16122 non-null int64\n",
      "RCB                16122 non-null int64\n",
      "RB                 16122 non-null int64\n",
      "Crossing           16122 non-null float64\n",
      "Finishing          16122 non-null float64\n",
      "HeadingAccuracy    16122 non-null float64\n",
      "ShortPassing       16122 non-null float64\n",
      "Volleys            16122 non-null float64\n",
      "Dribbling          16122 non-null float64\n",
      "Curve              16122 non-null float64\n",
      "FKAccuracy         16122 non-null float64\n",
      "LongPassing        16122 non-null float64\n",
      "BallControl        16122 non-null float64\n",
      "Acceleration       16122 non-null float64\n",
      "SprintSpeed        16122 non-null float64\n",
      "Agility            16122 non-null float64\n",
      "Reactions          16122 non-null float64\n",
      "Balance            16122 non-null float64\n",
      "ShotPower          16122 non-null float64\n",
      "Jumping            16122 non-null float64\n",
      "Stamina            16122 non-null float64\n",
      "Strength           16122 non-null float64\n",
      "LongShots          16122 non-null float64\n",
      "Aggression         16122 non-null float64\n",
      "Interceptions      16122 non-null float64\n",
      "Positioning        16122 non-null float64\n",
      "Vision             16122 non-null float64\n",
      "Penalties          16122 non-null float64\n",
      "Composure          16122 non-null float64\n",
      "Marking            16122 non-null float64\n",
      "StandingTackle     16122 non-null float64\n",
      "SlidingTackle      16122 non-null float64\n",
      "dtypes: float64(32), int64(29), object(4)\n",
      "memory usage: 8.1+ MB\n"
     ]
    }
   ],
   "source": [
    "prepared_fifa_data.info()"
   ]
  },
  {
   "cell_type": "markdown",
   "metadata": {},
   "source": [
    "## Wstępne Przetwarzanie Danych"
   ]
  },
  {
   "cell_type": "code",
   "execution_count": 87,
   "metadata": {},
   "outputs": [],
   "source": [
    "# from imblearn.over_sampling import RandomOverSampler, SMOTE, BorderlineSMOTE, ADASYN"
   ]
  },
  {
   "cell_type": "markdown",
   "metadata": {},
   "source": [
    "### Usuwanie cech stałych oraz quasi-stałych"
   ]
  },
  {
   "cell_type": "code",
   "execution_count": 88,
   "metadata": {},
   "outputs": [],
   "source": [
    "VARIANCE_THRESHHOLD = 0.2\n",
    "\n",
    "def drop_quasi_constant_features(data):\n",
    "    data_no_category = data.select_dtypes(exclude=['category'])\n",
    "    qconstant_filter = VarianceThreshold(threshold=VARIANCE_THRESHHOLD)\n",
    "    qconstant_filter.fit(data_no_category)\n",
    "    selected_features = data_no_category.columns[qconstant_filter.get_support()]\n",
    "    qconstant_features = [feature for feature in data_no_category.columns if feature not in selected_features]\n",
    "    print(f'Dropping constant columns: {qconstant_features}')\n",
    "    return data.drop(columns=qconstant_features, axis=1)"
   ]
  },
  {
   "cell_type": "markdown",
   "metadata": {},
   "source": [
    "### Usuwanie cech duplikatów"
   ]
  },
  {
   "cell_type": "code",
   "execution_count": 89,
   "metadata": {},
   "outputs": [],
   "source": [
    "def find_duplicate_columns(data):\n",
    "    no_duplicates_data = data.T.drop_duplicates(keep='first').T\n",
    "    return [c for c in data.columns if c not in no_duplicates_data.columns]\n",
    "\n",
    "def drop_duplicate_columns(data):\n",
    "    duplicate_columns = find_duplicate_columns(data)\n",
    "    print(f'Dropping duplicate columns: {duplicate_columns}')\n",
    "    return data.drop(columns=duplicate_columns, axis=1)"
   ]
  },
  {
   "cell_type": "markdown",
   "metadata": {},
   "source": [
    "## Good players filtering "
   ]
  },
  {
   "cell_type": "code",
   "execution_count": 90,
   "metadata": {},
   "outputs": [],
   "source": [
    "def filter_players_by_overall(fifa_data):\n",
    "    overall_threshold = 70\n",
    "    print(f'Filtering players by overall {overall_threshold}')\n",
    "    return fifa_data[fifa_data['Overall'] >= overall_threshold]"
   ]
  },
  {
   "cell_type": "markdown",
   "metadata": {},
   "source": [
    "## Label encoding"
   ]
  },
  {
   "cell_type": "code",
   "execution_count": 91,
   "metadata": {},
   "outputs": [],
   "source": [
    "def get_labels_map(le):\n",
    "    return dict(zip(le.classes_, le.transform(le.classes_)))\n",
    "\n",
    "def encode_column_labels(col):\n",
    "    label_encoder = LabelEncoder()\n",
    "    transform = label_encoder.fit_transform(col)\n",
    "    print(f'{col.name} encoding:') \n",
    "    pprint(get_labels_map(label_encoder))\n",
    "    return transform\n",
    "\n",
    "def encode_labels(data):\n",
    "    print('Label encoding')\n",
    "    categories = data.select_dtypes('category')\n",
    "    data[categories.columns] = data[categories.columns].apply(encode_column_labels)\n",
    "    return data"
   ]
  },
  {
   "cell_type": "markdown",
   "metadata": {},
   "source": [
    "### Preprocess pipeline"
   ]
  },
  {
   "cell_type": "code",
   "execution_count": 92,
   "metadata": {},
   "outputs": [],
   "source": [
    "def preprocess_data(data):\n",
    "    category_cols =  ['Preferred Foot', 'Body Type', 'Work Rate', 'Position']\n",
    "    data[category_cols] = data[category_cols].astype('category')\n",
    "\n",
    "    before_shape = data.shape\n",
    "    print(f'shape before preprocess {before_shape}')\n",
    "\n",
    "    preprocess_pipeline = [\n",
    "        drop_quasi_constant_features,\n",
    "        drop_duplicate_columns,\n",
    "        encode_labels,\n",
    "        filter_players_by_overall,\n",
    "    ]\n",
    "\n",
    "    for processor in preprocess_pipeline:\n",
    "        data = processor(data)\n",
    "\n",
    "    after_shape = data.shape\n",
    "    print(f'shape after preprocess {after_shape}')\n",
    "    print(f'dropped {before_shape[0]-after_shape[0]} rows')\n",
    "    print(f'dropped {before_shape[1]-after_shape[1]} columns')\n",
    "    \n",
    "    return data"
   ]
  },
  {
   "cell_type": "code",
   "execution_count": 93,
   "metadata": {},
   "outputs": [
    {
     "name": "stdout",
     "output_type": "stream",
     "text": [
      "shape before preprocess (16122, 65)\n",
      "Dropping constant columns: []\n",
      "Dropping duplicate columns: ['ST', 'RS', 'CF', 'RF', 'RW', 'CAM', 'RAM', 'CM', 'RCM', 'RM', 'CDM', 'RDM', 'RWB', 'CB', 'RCB', 'RB']\n",
      "Label encoding\n",
      "Preferred Foot encoding:\n",
      "{'Left': 0, 'Right': 1}\n",
      "Work Rate encoding:\n",
      "{'High/ High': 0,\n",
      " 'High/ Low': 1,\n",
      " 'High/ Medium': 2,\n",
      " 'Low/ High': 3,\n",
      " 'Low/ Low': 4,\n",
      " 'Low/ Medium': 5,\n",
      " 'Medium/ High': 6,\n",
      " 'Medium/ Low': 7,\n",
      " 'Medium/ Medium': 8}\n",
      "Body Type encoding:\n",
      "{'Lean': 0, 'Normal': 1, 'Stocky': 2}\n",
      "Position encoding:\n",
      "{'CB': 0, 'CM': 1, 'F': 2, 'LB': 3, 'LM': 4, 'RB': 5, 'RM': 6}\n",
      "Filtering players by overall 70\n",
      "shape after preprocess (5137, 49)\n",
      "dropped 10985 rows\n",
      "dropped 16 columns\n"
     ]
    }
   ],
   "source": [
    "preprocessed_fifa_data = preprocess_data(prepared_fifa_data)"
   ]
  },
  {
   "cell_type": "markdown",
   "metadata": {},
   "source": [
    "## Train and Target Data Split"
   ]
  },
  {
   "cell_type": "code",
   "execution_count": 94,
   "metadata": {},
   "outputs": [],
   "source": [
    "def train_target_split(data):\n",
    "    return data.drop('Position', axis=1), data['Position']"
   ]
  },
  {
   "cell_type": "code",
   "execution_count": 95,
   "metadata": {},
   "outputs": [],
   "source": [
    "fifa_train_data, target = train_target_split(preprocessed_fifa_data)"
   ]
  },
  {
   "cell_type": "markdown",
   "metadata": {},
   "source": [
    "## Oversampling and undersampling"
   ]
  },
  {
   "cell_type": "code",
   "execution_count": 96,
   "metadata": {},
   "outputs": [],
   "source": [
    "def draw_countplot(col):\n",
    "    sns.countplot(col, order=col.value_counts().index)"
   ]
  },
  {
   "cell_type": "code",
   "execution_count": 97,
   "metadata": {},
   "outputs": [
    {
     "data": {
      "image/png": "[encoded data removed]",
      "text/plain": [
       "<Figure size 432x288 with 1 Axes>"
      ]
     },
     "metadata": {
      "needs_background": "light"
     },
     "output_type": "display_data"
    }
   ],
   "source": [
    "draw_countplot(target)"
   ]
  },
  {
   "cell_type": "code",
   "execution_count": 98,
   "metadata": {},
   "outputs": [],
   "source": [
    "def resample_data(sampler, x, y):\n",
    "    return sampler.fit_resample(x, y)"
   ]
  },
  {
   "cell_type": "code",
   "execution_count": 99,
   "metadata": {},
   "outputs": [],
   "source": [
    "# cc = ClusterCentroids(random_state=0)\n",
    "# rus = RandomUnderSampler(random_state=0)\n",
    "# ros = RandomOverSampler(random_state=0)\n",
    "# smote = SMOTE()\n",
    "# adasyn = ADASYN()\n",
    "# tl = TomekLinks()\n",
    "sampler = BorderlineSMOTE()\n",
    "X_resampled, y_resampled = resample_data(sampler, fifa_train_data, target)"
   ]
  },
  {
   "cell_type": "code",
   "execution_count": 100,
   "metadata": {},
   "outputs": [
    {
     "data": {
      "image/png": "[encoded data removed]",
      "text/plain": [
       "<Figure size 432x288 with 1 Axes>"
      ]
     },
     "metadata": {
      "needs_background": "light"
     },
     "output_type": "display_data"
    }
   ],
   "source": [
    "draw_countplot(pd.DataFrame(y_resampled)[0])"
   ]
  },
  {
   "cell_type": "markdown",
   "metadata": {},
   "source": [
    "## Eksperyment uczenia modelu"
   ]
  },
  {
   "cell_type": "markdown",
   "metadata": {},
   "source": [
    "### Train Test Split"
   ]
  },
  {
   "cell_type": "code",
   "execution_count": 101,
   "metadata": {},
   "outputs": [],
   "source": [
    "def split_learning_data(x, y):\n",
    "    X_train, X_test, y_train, y_test = train_test_split(\n",
    "            x, y, test_size=0.33, random_state=42)\n",
    "\n",
    "    X_train, X_val, y_train, y_val = train_test_split(\n",
    "            X_train, y_train, test_size=0.25, random_state=42)\n",
    "\n",
    "    return dict(\n",
    "        x_train=X_train,\n",
    "        y_train=y_train,\n",
    "        x_test=X_test,\n",
    "        y_test=y_test,\n",
    "        x_val=X_val,\n",
    "        y_val=y_val\n",
    "    )"
   ]
  },
  {
   "cell_type": "code",
   "execution_count": 102,
   "metadata": {},
   "outputs": [],
   "source": [
    "learning_data = split_learning_data(X_resampled, y_resampled)"
   ]
  },
  {
   "cell_type": "markdown",
   "metadata": {},
   "source": [
    "### Scaling"
   ]
  },
  {
   "cell_type": "code",
   "execution_count": 103,
   "metadata": {},
   "outputs": [],
   "source": [
    "def scale_data(data):\n",
    "    scaler = RobustScaler()\n",
    "    scaled_data = {}\n",
    "    scaled_data['x_train'] = scaler.fit_transform(data['x_train'])\n",
    "    scaled_data['x_test'] = scaler.transform(data['x_test'])\n",
    "    scaled_data['x_val'] = scaler.transform(data['x_val'])\n",
    "    return {**data, **scaled_data}\n",
    "    \n",
    "learning_data = scale_data(learning_data)"
   ]
  },
  {
   "cell_type": "markdown",
   "metadata": {},
   "source": [
    "### Modeling with  Random Forest and Grid Search"
   ]
  },
  {
   "cell_type": "code",
   "execution_count": 104,
   "metadata": {},
   "outputs": [],
   "source": [
    "def perform_grid_search(data, estimator):\n",
    "    grid_search = GridSearch(model = estimator.estimator, param_grid = estimator.param_grid)\n",
    "    grid_search.fit(data['x_train'], data['y_train'], data['x_val'], data['y_val'])\n",
    "    print('GridSearchCV result for', estimator.name)\n",
    "    print('Best estimator params' ,grid_search.best_params)\n",
    "    print('Best estimator score', classification_report(data['y_test'], grid_search.best_estimator_.predict(data['x_test'])))   "
   ]
  },
  {
   "cell_type": "code",
   "execution_count": 105,
   "metadata": {},
   "outputs": [],
   "source": [
    "def eval_model(model, data):\n",
    "    model.fit(data['x_train'], data['y_train'])\n",
    "    y_pred = model.predict(data['x_test'])\n",
    "    precision, recall, fscore, support = score(data['y_test'], y_pred, average='weighted')\n",
    "    return dict(precision=precision, recall=recall, fscore=fscore, support=support)"
   ]
  },
  {
   "cell_type": "markdown",
   "metadata": {},
   "source": [
    "### Feature Selection"
   ]
  },
  {
   "cell_type": "code",
   "execution_count": 106,
   "metadata": {},
   "outputs": [],
   "source": [
    "def select_features(selector, data):\n",
    "    selected_data = {}\n",
    "    selected_data['x_train'] = selector.fit_transform(data['x_train'], data['y_train'])\n",
    "    selected_data['x_test'] = selector.transform(data['x_test'])\n",
    "    selected_data['x_val'] = selector.transform(data['x_val'])\n",
    "    return {**data, **selected_data}"
   ]
  },
  {
   "cell_type": "markdown",
   "metadata": {},
   "source": [
    "#### SelectKBest"
   ]
  },
  {
   "cell_type": "code",
   "execution_count": 107,
   "metadata": {},
   "outputs": [
    {
     "name": "stderr",
     "output_type": "stream",
     "text": [
      "100%|██████████| 47/47 [01:35<00:00,  2.02s/it]\n"
     ]
    },
    {
     "data": {
      "text/plain": [
       "<matplotlib.axes._subplots.AxesSubplot at 0x7f2b4d559ef0>"
      ]
     },
     "execution_count": 107,
     "metadata": {},
     "output_type": "execute_result"
    },
    {
     "data": {
      "image/png": "[encoded data removed]",
      "text/plain": [
       "<Figure size 864x432 with 1 Axes>"
      ]
     },
     "metadata": {
      "needs_background": "light"
     },
     "output_type": "display_data"
    }
   ],
   "source": [
    "fscores = []\n",
    "start_k = 1\n",
    "end_k = 48\n",
    "for k in trange(start_k, end_k):\n",
    "    k_best_selector = SelectKBest(f_classif, k=k)\n",
    "    exp_data = select_features(selector=k_best_selector, data=learning_data)\n",
    "    mscore = eval_model(RandomForestClassifier(n_estimators=200), exp_data)\n",
    "    fscores.append(mscore['fscore']) \n",
    "\n",
    "plt.figure(figsize=(12,6))\n",
    "sns.scatterplot(data=pd.DataFrame({'k_features':list(range(start_k, end_k)), 'f1-score': fscores}), x='k_features', y='f1-score')"
   ]
  },
  {
   "cell_type": "markdown",
   "metadata": {},
   "source": [
    "#### Rekurencyjna Eliminacja and SelectKBest"
   ]
  },
  {
   "cell_type": "code",
   "execution_count": 108,
   "metadata": {},
   "outputs": [
    {
     "name": "stdout",
     "output_type": "stream",
     "text": [
      "No Feature Selection Model Evaluation\n"
     ]
    },
    {
     "name": "stderr",
     "output_type": "stream",
     "text": [
      "100%|██████████| 9/9 [00:21<00:00,  2.41s/it]\n"
     ]
    },
    {
     "name": "stdout",
     "output_type": "stream",
     "text": [
      "GridSearchCV result for RandomForestClassifier\n",
      "Best estimator params {'bootstrap': True, 'max_depth': 100, 'max_features': 7, 'min_samples_leaf': 1, 'min_samples_split': 2, 'n_estimators': 1000}\n",
      "Best estimator score               precision    recall  f1-score   support\n",
      "\n",
      "           0       0.73      0.91      0.81       362\n",
      "           1       0.54      0.69      0.61       354\n",
      "           2       0.77      0.82      0.79       357\n",
      "           3       0.87      0.74      0.80       373\n",
      "           4       0.63      0.50      0.56       359\n",
      "           5       0.78      0.78      0.78       344\n",
      "           6       0.63      0.48      0.55       353\n",
      "\n",
      "    accuracy                           0.71      2502\n",
      "   macro avg       0.71      0.70      0.70      2502\n",
      "weighted avg       0.71      0.71      0.70      2502\n",
      "\n",
      "SelectKBest\n",
      "selecting features with SelectKBest\n",
      "selected 40 features\n"
     ]
    },
    {
     "name": "stderr",
     "output_type": "stream",
     "text": [
      "100%|██████████| 9/9 [00:19<00:00,  2.20s/it]\n"
     ]
    },
    {
     "name": "stdout",
     "output_type": "stream",
     "text": [
      "GridSearchCV result for RandomForestClassifier\n",
      "Best estimator params {'bootstrap': True, 'max_depth': 100, 'max_features': 7, 'min_samples_leaf': 1, 'min_samples_split': 2, 'n_estimators': 1000}\n",
      "Best estimator score               precision    recall  f1-score   support\n",
      "\n",
      "           0       0.73      0.90      0.81       362\n",
      "           1       0.55      0.66      0.60       354\n",
      "           2       0.76      0.80      0.78       357\n",
      "           3       0.87      0.75      0.80       373\n",
      "           4       0.57      0.48      0.52       359\n",
      "           5       0.79      0.80      0.80       344\n",
      "           6       0.62      0.49      0.55       353\n",
      "\n",
      "    accuracy                           0.70      2502\n",
      "   macro avg       0.70      0.70      0.69      2502\n",
      "weighted avg       0.70      0.70      0.69      2502\n",
      "\n",
      "RFECV\n",
      "selecting features with RFECV\n",
      "selected 48 features\n"
     ]
    },
    {
     "name": "stderr",
     "output_type": "stream",
     "text": [
      "100%|██████████| 9/9 [00:21<00:00,  2.41s/it]\n"
     ]
    },
    {
     "name": "stdout",
     "output_type": "stream",
     "text": [
      "GridSearchCV result for RandomForestClassifier\n",
      "Best estimator params {'bootstrap': True, 'max_depth': 100, 'max_features': 7, 'min_samples_leaf': 1, 'min_samples_split': 2, 'n_estimators': 1000}\n",
      "Best estimator score               precision    recall  f1-score   support\n",
      "\n",
      "           0       0.73      0.91      0.81       362\n",
      "           1       0.54      0.69      0.61       354\n",
      "           2       0.77      0.82      0.79       357\n",
      "           3       0.87      0.74      0.80       373\n",
      "           4       0.63      0.50      0.56       359\n",
      "           5       0.78      0.78      0.78       344\n",
      "           6       0.63      0.48      0.55       353\n",
      "\n",
      "    accuracy                           0.71      2502\n",
      "   macro avg       0.71      0.70      0.70      2502\n",
      "weighted avg       0.71      0.71      0.70      2502\n",
      "\n"
     ]
    }
   ],
   "source": [
    "print('No Feature Selection Model Evaluation')\n",
    "\n",
    "random_forest_esimator = Estimator(\n",
    "    name='RandomForestClassifier',\n",
    "    estimator=RandomForestClassifier(),\n",
    "    param_grid={\n",
    "        'bootstrap': [True],\n",
    "        'max_depth': [10, 50, 100],\n",
    "        'max_features': [7],\n",
    "        'min_samples_leaf': [1],\n",
    "        'min_samples_split': [2],\n",
    "        'n_estimators': [100, 500, 1000]\n",
    "    }\n",
    ")\n",
    "\n",
    "perform_grid_search(learning_data, random_forest_esimator)\n",
    "\n",
    "k_best_selector = SelectKBest(f_classif, k=40)\n",
    "rfecv_selector = RFECV(estimator=RandomForestClassifier(n_estimators=100), cv=5, step=1, n_jobs=4, verbose=5)\n",
    "\n",
    "selectors = {\n",
    "    'SelectKBest':k_best_selector,\n",
    "    'RFECV':rfecv_selector\n",
    "}\n",
    "\n",
    "for selector_name, selector in selectors.items():\n",
    "    print(selector_name)\n",
    "    print(f'selecting features with {selector_name}')\n",
    "    selected_features_data = select_features(selector=selector, data=learning_data)\n",
    "    print(f'selected {selected_features_data[\"x_train\"].shape[1]} features')\n",
    "    perform_grid_search(selected_features_data, random_forest_esimator)"
   ]
  },
  {
   "cell_type": "markdown",
   "metadata": {},
   "source": [
    "## Creating and Extracting New Features"
   ]
  },
  {
   "cell_type": "code",
   "execution_count": 109,
   "metadata": {
    "scrolled": true
   },
   "outputs": [
    {
     "name": "stderr",
     "output_type": "stream",
     "text": [
      "INFO:data_prepare_pipeline:run data preparation pipeline\n",
      "INFO:data_prepare_pipeline:droping columns\n",
      "INFO:data_prepare_pipeline:droping records with nan values\n",
      "INFO:data_prepare_pipeline:droping goalkeepers\n",
      "INFO:data_prepare_pipeline:transform data\n",
      "INFO:data_prepare_pipeline:transform column Body Type\n",
      "INFO:data_prepare_pipeline:transform column Height\n",
      "INFO:data_prepare_pipeline:transform column Weight\n",
      "INFO:data_prepare_pipeline:transform column Position\n",
      "INFO:data_prepare_pipeline:transform column LS\n",
      "INFO:data_prepare_pipeline:transform column ST\n",
      "INFO:data_prepare_pipeline:transform column RS\n",
      "INFO:data_prepare_pipeline:transform column LW\n",
      "INFO:data_prepare_pipeline:transform column LF\n",
      "INFO:data_prepare_pipeline:transform column CF\n",
      "INFO:data_prepare_pipeline:transform column RF\n",
      "INFO:data_prepare_pipeline:transform column RW\n",
      "INFO:data_prepare_pipeline:transform column LAM\n",
      "INFO:data_prepare_pipeline:transform column CAM\n",
      "INFO:data_prepare_pipeline:transform column RAM\n",
      "INFO:data_prepare_pipeline:transform column LM\n",
      "INFO:data_prepare_pipeline:transform column LCM\n",
      "INFO:data_prepare_pipeline:transform column CM\n",
      "INFO:data_prepare_pipeline:transform column RCM\n",
      "INFO:data_prepare_pipeline:transform column RM\n",
      "INFO:data_prepare_pipeline:transform column LWB\n",
      "INFO:data_prepare_pipeline:transform column LDM\n",
      "INFO:data_prepare_pipeline:transform column CDM\n",
      "INFO:data_prepare_pipeline:transform column RDM\n",
      "INFO:data_prepare_pipeline:transform column RWB\n",
      "INFO:data_prepare_pipeline:transform column LB\n",
      "INFO:data_prepare_pipeline:transform column LCB\n",
      "INFO:data_prepare_pipeline:transform column CB\n",
      "INFO:data_prepare_pipeline:transform column RCB\n",
      "INFO:data_prepare_pipeline:transform column RB\n"
     ]
    },
    {
     "name": "stdout",
     "output_type": "stream",
     "text": [
      "shape before preprocess (16122, 65)\n",
      "Dropping constant columns: []\n",
      "Dropping duplicate columns: ['ST', 'RS', 'CF', 'RF', 'RW', 'CAM', 'RAM', 'CM', 'RCM', 'RM', 'CDM', 'RDM', 'RWB', 'CB', 'RCB', 'RB']\n",
      "Label encoding\n",
      "Preferred Foot encoding:\n",
      "{'Left': 0, 'Right': 1}\n",
      "Work Rate encoding:\n",
      "{'High/ High': 0,\n",
      " 'High/ Low': 1,\n",
      " 'High/ Medium': 2,\n",
      " 'Low/ High': 3,\n",
      " 'Low/ Low': 4,\n",
      " 'Low/ Medium': 5,\n",
      " 'Medium/ High': 6,\n",
      " 'Medium/ Low': 7,\n",
      " 'Medium/ Medium': 8}\n",
      "Body Type encoding:\n",
      "{'Lean': 0, 'Normal': 1, 'Stocky': 2}\n",
      "Position encoding:\n",
      "{'CB': 0, 'CM': 1, 'F': 2, 'LB': 3, 'LM': 4, 'RB': 5, 'RM': 6}\n",
      "Filtering players by overall 70\n",
      "shape after preprocess (5137, 49)\n",
      "dropped 10985 rows\n",
      "dropped 16 columns\n"
     ]
    }
   ],
   "source": [
    "fifa_data = pd.read_csv('csv/data.csv')\n",
    "fifa_data = preprocess_data(run_data_preparation_pipeline(fifa_data))"
   ]
  },
  {
   "cell_type": "code",
   "execution_count": 110,
   "metadata": {
    "code_folding": [
     0
    ]
   },
   "outputs": [],
   "source": [
    "old_features = [\n",
    "    'SprintSpeed',\n",
    "    'Acceleration',\n",
    "    'Finishing',\n",
    "    'LongShots',\n",
    "    'ShotPower',\n",
    "    'Positioning',\n",
    "    'Penalties',\n",
    "    'Volleys',\n",
    "    'ShortPassing',\n",
    "    'Vision',\n",
    "    'Crossing',\n",
    "    'LongPassing',\n",
    "    'Curve',\n",
    "    'FKAccuracy',\n",
    "    'Marking',\n",
    "    'StandingTackle',\n",
    "    'Interceptions',\n",
    "    'LongPassing',\n",
    "    'HeadingAccuracy',\n",
    "    'SlidingTackle',\n",
    "    'Strength',\n",
    "    'Stamina',\n",
    "    'Aggression',\n",
    "    'Jumping',\n",
    "    'Dribbling',\n",
    "    'BallControl',\n",
    "    'Agility',\n",
    "    'Balance',\n",
    "    'Reactions',\n",
    "]"
   ]
  },
  {
   "cell_type": "code",
   "execution_count": 111,
   "metadata": {},
   "outputs": [],
   "source": [
    "pace = fifa_data['SprintSpeed'] * 0.55 + prepared_fifa_data['Acceleration'] * 0.45\n",
    "\n",
    "shooting = fifa_data['Finishing'] * 0.45 + \\\n",
    "           fifa_data['LongShots'] * 0.2 + \\\n",
    "           fifa_data['ShotPower'] * 0.2 + \\\n",
    "           fifa_data['Positioning'] * 0.05 + \\\n",
    "           fifa_data['Penalties'] * 0.05 + \\\n",
    "           fifa_data['Volleys'] * 0.05\n",
    "\n",
    "passing =  fifa_data['ShortPassing'] * 0.35 + \\\n",
    "           fifa_data['Vision'] * 0.2 + \\\n",
    "           fifa_data['Crossing'] * 0.2 + \\\n",
    "           fifa_data['LongPassing'] * 0.15 + \\\n",
    "           fifa_data['Curve'] * 0.05 + \\\n",
    "           fifa_data['FKAccuracy'] * 0.05\n",
    "\n",
    "dribbling = fifa_data['Dribbling'] * 0.5 + \\\n",
    "           fifa_data['BallControl'] * 0.3 + \\\n",
    "           fifa_data['Agility'] * 0.1 + \\\n",
    "           fifa_data['Balance'] * 0.05 + \\\n",
    "           fifa_data['Reactions'] * 0.05\n",
    "\n",
    "deffending = fifa_data['Marking'] * 0.3 + \\\n",
    "             fifa_data['StandingTackle'] * 0.3 + \\\n",
    "             fifa_data['Interceptions'] * 0.2 + \\\n",
    "             fifa_data['HeadingAccuracy'] * 0.1 + \\\n",
    "             fifa_data['SlidingTackle'] * 0.1\n",
    "\n",
    "physical = fifa_data['Strength'] * 0.5 + \\\n",
    "           fifa_data['Stamina'] * 0.25 + \\\n",
    "           fifa_data['Aggression'] * 0.2 + \\\n",
    "           fifa_data['Jumping'] * 0.05 "
   ]
  },
  {
   "cell_type": "code",
   "execution_count": 112,
   "metadata": {},
   "outputs": [
    {
     "name": "stdout",
     "output_type": "stream",
     "text": [
      "Index(['Age', 'Overall', 'Potential', 'Preferred Foot', 'Weak Foot',\n",
      "       'Work Rate', 'Body Type', 'Position', 'Height', 'Weight', 'LS', 'LW',\n",
      "       'LF', 'LAM', 'LM', 'LCM', 'LWB', 'LDM', 'LB', 'LCB', 'Composure',\n",
      "       'Pace', 'Shooting', 'Passing', 'Deffending', 'Physical'],\n",
      "      dtype='object')\n",
      "(5137, 26)\n"
     ]
    }
   ],
   "source": [
    "fifa_data['Pace'] = pace\n",
    "fifa_data['Shooting'] = shooting\n",
    "fifa_data['Passing'] = passing\n",
    "fifa_data['Dribbling'] = dribbling\n",
    "fifa_data['Deffending'] = deffending\n",
    "fifa_data['Physical'] = physical\n",
    "\n",
    "# prepared_fifa_data.drop('Preferred Foot', axis=1)\n",
    "fifa_data.drop(columns=old_features, inplace=True)\n",
    "\n",
    "print(fifa_data.columns)\n",
    "print(fifa_data.shape)"
   ]
  },
  {
   "cell_type": "code",
   "execution_count": 113,
   "metadata": {},
   "outputs": [
    {
     "name": "stdout",
     "output_type": "stream",
     "text": [
      "f1-score 0.5352694562149202\n"
     ]
    }
   ],
   "source": [
    "fifa_data = split_learning_data(*train_target_split(fifa_data))\n",
    "fifa_data = scale_data(fifa_data)\n",
    "new_features_score = eval_model(RandomForestClassifier(n_estimators=100), fifa_data)\n",
    "print('f1-score', new_features_score['fscore'])"
   ]
  }
 ],
 "metadata": {
  "kernelspec": {
   "display_name": "Python 3",
   "language": "python",
   "name": "python3"
  },
  "language_info": {
   "codemirror_mode": {
    "name": "ipython",
    "version": 3
   },
   "file_extension": ".py",
   "mimetype": "text/x-python",
   "name": "python",
   "nbconvert_exporter": "python",
   "pygments_lexer": "ipython3",
   "version": "3.6.8"
  }
 },
 "nbformat": 4,
 "nbformat_minor": 2
}
