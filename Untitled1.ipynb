{
 "cells": [
  {
   "cell_type": "code",
   "execution_count": 12,
   "metadata": {
    "scrolled": true
   },
   "outputs": [],
   "source": [
    "import numpy as np\n",
    "import pandas as pd\n",
    "import matplotlib.pyplot as plt\n",
    "import seaborn as sns\n",
    "\n",
    "from sklearn.metrics import classification_report\n",
    "from sklearn.metrics import precision_recall_fscore_support as score\n",
    "from sklearn.feature_selection import RFECV, SelectKBest, f_classif\n",
    "from sklearn.tree import DecisionTreeClassifier\n",
    "from sklearn.ensemble import RandomForestClassifier, GradientBoostingClassifier, AdaBoostClassifier\n",
    "from sklearn.neighbors import KNeighborsClassifier\n",
    "from sklearn.neural_network import MLPClassifier\n",
    "# from sklearn.model_selection import GridSearchCV\n",
    "from hypopt import GridSearch  # provide posibility for search with validation set\n",
    "from tqdm import trange\n",
    "import xgboost as xgb\n",
    "\n",
    "import utils\n",
    "from data_preprocess import preprocess_fifa_data\n",
    "from estimators import Estimator\n",
    "from experiment import perform_grid_search"
   ]
  },
  {
   "cell_type": "code",
   "execution_count": 13,
   "metadata": {
    "scrolled": true
   },
   "outputs": [],
   "source": [
    "import warnings\n",
    "from sklearn.exceptions import ConvergenceWarning\n",
    "warnings.filterwarnings(\"ignore\", category=ConvergenceWarning)"
   ]
  },
  {
   "cell_type": "markdown",
   "metadata": {},
   "source": [
    "[train test split before oversampling](https://stats.stackexchange.com/questions/60180/testing-classification-on-oversampled-imbalance-data)  \n",
    "[scale before feature selection](https://stats.stackexchange.com/questions/363312/normalization-standardization-should-one-do-this-before-oversampling-undersampl)"
   ]
  },
  {
   "cell_type": "code",
   "execution_count": 14,
   "metadata": {
    "code_folding": [
     0
    ],
    "scrolled": true
   },
   "outputs": [],
   "source": [
    "estimators = [\n",
    "    Estimator(\n",
    "        name='DecisionTreeClassifier',\n",
    "        estimator=DecisionTreeClassifier(),\n",
    "        param_grid={\n",
    "            'max_depth': [10, 50, 100],\n",
    "            'min_samples_leaf': [1],\n",
    "            'min_samples_split': [2],\n",
    "        }\n",
    "    ),\n",
    "    Estimator(\n",
    "        name='RandomForestClassifier',\n",
    "        estimator=RandomForestClassifier(),\n",
    "        param_grid={\n",
    "            'bootstrap': [True],\n",
    "            'max_depth': [10, 50, 100],\n",
    "            'max_features': [7],\n",
    "            'min_samples_leaf': [1],\n",
    "            'min_samples_split': [2],\n",
    "            'n_estimators': [100, 500, 1000]\n",
    "        }\n",
    "    ),\n",
    "    Estimator(\n",
    "        name='GradientBoostingClassifier',\n",
    "        estimator=GradientBoostingClassifier(),\n",
    "        param_grid={\n",
    "            'n_estimators': [100, 200, 500]\n",
    "        }\n",
    "    ), \n",
    "   Estimator(\n",
    "        name='AdaBoostClassifier',\n",
    "        estimator=AdaBoostClassifier(),\n",
    "        param_grid={\n",
    "            'n_estimators': [100, 200, 500, 1000]\n",
    "        }\n",
    "    ), \n",
    "    Estimator(\n",
    "        name='KNeighborsClassifier',\n",
    "        estimator=KNeighborsClassifier(),\n",
    "        param_grid={\n",
    "            'n_neighbors': [5,10,20,30,50]\n",
    "        }\n",
    "    ),\n",
    "    Estimator(\n",
    "        name='MLPClassifier',\n",
    "        estimator=MLPClassifier(),\n",
    "        param_grid={\n",
    "            'hidden_layer_sizes': [(30,), (40,), (50,)],\n",
    "            'max_iter': [200, 500]\n",
    "        }\n",
    "    ),\n",
    "    Estimator(\n",
    "        name='XGBClassifier',\n",
    "        estimator=xgb.XGBClassifier(),\n",
    "        param_grid={\n",
    "            'objective': ['multi:softmax']\n",
    "        }\n",
    "    )\n",
    "]"
   ]
  },
  {
   "cell_type": "code",
   "execution_count": 15,
   "metadata": {
    "scrolled": true
   },
   "outputs": [],
   "source": [
    "def run_experiemnt(data):\n",
    "    return {estimator.name: perform_grid_search(data, estimator) for estimator in estimators}"
   ]
  },
  {
   "cell_type": "code",
   "execution_count": 16,
   "metadata": {},
   "outputs": [],
   "source": [
    "# features_selectors = [\n",
    "#     {\n",
    "#         'selector': SelectKBest,\n",
    "#         'args': {\n",
    "#             'score_func': f_classif,\n",
    "#             'k': 40\n",
    "#         }\n",
    "#     },\n",
    "# ]\n",
    "# rfecv_selector = RFECV(estimator=RandomForestClassifier(n_estimators=100), cv=5, step=1, n_jobs=4, verbose=5)\n",
    "# k_best_selector = SelectKBest(score_func=f_classif, k=40)\n",
    "\n",
    "\n",
    "#     k_best_selector = SelectKBest(f_classif, k=40)\n",
    "#     return select_features(selector=k_best_selector, data=data)\n",
    "\n",
    "\n",
    "#     utils.draw_countplot(target, 'Position Classes')"
   ]
  },
  {
   "cell_type": "code",
   "execution_count": 17,
   "metadata": {
    "code_folding": []
   },
   "outputs": [],
   "source": [
    "def setup_learning_data(fifa_data):\n",
    "    fifa_train_data, target = utils.train_target_split(fifa_data)\n",
    "    learning_data = utils.split_learning_data(fifa_train_data, target)\n",
    "    learning_data = utils.scale_data(learning_data)\n",
    "    return learning_data"
   ]
  },
  {
   "cell_type": "code",
   "execution_count": 18,
   "metadata": {},
   "outputs": [],
   "source": [
    "def make_feature_selection(data):\n",
    "    return data"
   ]
  },
  {
   "cell_type": "code",
   "execution_count": 19,
   "metadata": {
    "scrolled": false
   },
   "outputs": [],
   "source": [
    "def main():\n",
    "    fifa_data = preprocess_fifa_data(pd.read_csv('csv/data.csv'))\n",
    "    learning_data = setup_learning_data(fifa_data)\n",
    "    selected_data = make_feature_selection(learning_data)\n",
    "    scores = run_experiemnt(selected_data)\n",
    "    utils.plot_experiment_result(scores)"
   ]
  },
  {
   "cell_type": "code",
   "execution_count": 20,
   "metadata": {
    "scrolled": false
   },
   "outputs": [
    {
     "name": "stderr",
     "output_type": "stream",
     "text": [
      "INFO:data_prepare_pipeline:run data preparation pipeline\n",
      "INFO:data_prepare_pipeline:droping columns\n",
      "INFO:data_prepare_pipeline:droping records with nan values\n",
      "INFO:data_prepare_pipeline:droping goalkeepers\n",
      "INFO:data_prepare_pipeline:transform data\n",
      "INFO:data_prepare_pipeline:transform column Body Type\n",
      "INFO:data_prepare_pipeline:transform column Height\n",
      "INFO:data_prepare_pipeline:transform column Weight\n",
      "INFO:data_prepare_pipeline:transform column Position\n",
      "INFO:data_prepare_pipeline:transform column LS\n",
      "INFO:data_prepare_pipeline:transform column ST\n",
      "INFO:data_prepare_pipeline:transform column RS\n",
      "INFO:data_prepare_pipeline:transform column LW\n",
      "INFO:data_prepare_pipeline:transform column LF\n",
      "INFO:data_prepare_pipeline:transform column CF\n",
      "INFO:data_prepare_pipeline:transform column RF\n",
      "INFO:data_prepare_pipeline:transform column RW\n",
      "INFO:data_prepare_pipeline:transform column LAM\n",
      "INFO:data_prepare_pipeline:transform column CAM\n",
      "INFO:data_prepare_pipeline:transform column RAM\n",
      "INFO:data_prepare_pipeline:transform column LM\n",
      "INFO:data_prepare_pipeline:transform column LCM\n",
      "INFO:data_prepare_pipeline:transform column CM\n",
      "INFO:data_prepare_pipeline:transform column RCM\n",
      "INFO:data_prepare_pipeline:transform column RM\n",
      "INFO:data_prepare_pipeline:transform column LWB\n",
      "INFO:data_prepare_pipeline:transform column LDM\n",
      "INFO:data_prepare_pipeline:transform column CDM\n",
      "INFO:data_prepare_pipeline:transform column RDM\n",
      "INFO:data_prepare_pipeline:transform column RWB\n",
      "INFO:data_prepare_pipeline:transform column LB\n",
      "INFO:data_prepare_pipeline:transform column LCB\n",
      "INFO:data_prepare_pipeline:transform column CB\n",
      "INFO:data_prepare_pipeline:transform column RCB\n",
      "INFO:data_prepare_pipeline:transform column RB\n"
     ]
    },
    {
     "name": "stdout",
     "output_type": "stream",
     "text": [
      "shape before preprocess (16122, 65)\n",
      "Dropping constant columns: []\n",
      "Dropping duplicate columns: ['ST', 'RS', 'CF', 'RF', 'RW', 'CAM', 'RAM', 'CM', 'RCM', 'RM', 'CDM', 'RDM', 'RWB', 'CB', 'RCB', 'RB']\n",
      "Label encoding\n",
      "Preferred Foot encoding:\n",
      "{'Left': 0, 'Right': 1}\n",
      "Work Rate encoding:\n",
      "{'High/ High': 0,\n",
      " 'High/ Low': 1,\n",
      " 'High/ Medium': 2,\n",
      " 'Low/ High': 3,\n",
      " 'Low/ Low': 4,\n",
      " 'Low/ Medium': 5,\n",
      " 'Medium/ High': 6,\n",
      " 'Medium/ Low': 7,\n",
      " 'Medium/ Medium': 8}\n",
      "Body Type encoding:\n",
      "{'Lean': 0, 'Normal': 1, 'Stocky': 2}\n",
      "Position encoding:\n",
      "{'CB': 0, 'CM': 1, 'F': 2, 'LB': 3, 'LM': 4, 'RB': 5, 'RM': 6}\n",
      "Filtering players by overall 70\n",
      "shape after preprocess (5137, 49)\n",
      "dropped 10985 rows\n",
      "dropped 16 columns\n",
      "running GridSearch for DecisionTreeClassifier\n"
     ]
    },
    {
     "name": "stderr",
     "output_type": "stream",
     "text": [
      "100%|██████████| 3/3 [00:00<00:00, 46.05it/s]"
     ]
    },
    {
     "name": "stdout",
     "output_type": "stream",
     "text": [
      "Best estimator params: {'max_depth': 10, 'min_samples_leaf': 1, 'min_samples_split': 2}\n",
      "Best estimator score: 0.46332729183197885\n",
      "running GridSearch for RandomForestClassifier\n"
     ]
    },
    {
     "name": "stderr",
     "output_type": "stream",
     "text": [
      "\n",
      "100%|██████████| 9/9 [00:09<00:00,  1.10s/it]\n"
     ]
    },
    {
     "name": "stdout",
     "output_type": "stream",
     "text": [
      "Best estimator params: {'bootstrap': True, 'max_depth': 10, 'max_features': 7, 'min_samples_leaf': 1, 'min_samples_split': 2, 'n_estimators': 1000}\n",
      "Best estimator score: 0.5478400508143227\n",
      "running GridSearch for GradientBoostingClassifier\n"
     ]
    },
    {
     "name": "stderr",
     "output_type": "stream",
     "text": [
      "100%|██████████| 3/3 [00:18<00:00,  6.04s/it]\n"
     ]
    },
    {
     "name": "stdout",
     "output_type": "stream",
     "text": [
      "Best estimator params: {'n_estimators': 100}\n",
      "Best estimator score: 0.532205329617861\n",
      "running GridSearch for AdaBoostClassifier\n"
     ]
    },
    {
     "name": "stderr",
     "output_type": "stream",
     "text": [
      "100%|██████████| 4/4 [00:06<00:00,  1.54s/it]\n"
     ]
    },
    {
     "name": "stdout",
     "output_type": "stream",
     "text": [
      "Best estimator params: {'n_estimators': 500}\n",
      "Best estimator score: 0.29702497636693503\n",
      "running GridSearch for KNeighborsClassifier\n"
     ]
    },
    {
     "name": "stderr",
     "output_type": "stream",
     "text": [
      "100%|██████████| 5/5 [00:00<00:00, 13.24it/s]\n"
     ]
    },
    {
     "name": "stdout",
     "output_type": "stream",
     "text": [
      "Best estimator params: {'n_neighbors': 30}\n",
      "Best estimator score: 0.4821734123635118\n",
      "running GridSearch for MLPClassifier\n"
     ]
    },
    {
     "name": "stderr",
     "output_type": "stream",
     "text": [
      "100%|██████████| 6/6 [00:31<00:00,  5.20s/it]\n"
     ]
    },
    {
     "name": "stdout",
     "output_type": "stream",
     "text": [
      "Best estimator params: {'hidden_layer_sizes': (40,), 'max_iter': 200}\n",
      "Best estimator score: 0.5348412065790135\n",
      "running GridSearch for XGBClassifier\n"
     ]
    },
    {
     "name": "stderr",
     "output_type": "stream",
     "text": [
      "100%|██████████| 1/1 [00:02<00:00,  2.01s/it]\n"
     ]
    },
    {
     "name": "stdout",
     "output_type": "stream",
     "text": [
      "Best estimator params: {'objective': 'multi:softmax'}\n",
      "Best estimator score: 0.5303794285896795\n"
     ]
    },
    {
     "data": {
      "image/png": "[encoded data removed]",
      "text/plain": [
       "<Figure size 864x432 with 1 Axes>"
      ]
     },
     "metadata": {
      "needs_background": "light"
     },
     "output_type": "display_data"
    }
   ],
   "source": [
    "main()"
   ]
  }
 ],
 "metadata": {
  "kernelspec": {
   "display_name": "Python 3",
   "language": "python",
   "name": "python3"
  },
  "language_info": {
   "codemirror_mode": {
    "name": "ipython",
    "version": 3
   },
   "file_extension": ".py",
   "mimetype": "text/x-python",
   "name": "python",
   "nbconvert_exporter": "python",
   "pygments_lexer": "ipython3",
   "version": "3.6.8"
  }
 },
 "nbformat": 4,
 "nbformat_minor": 2
}
