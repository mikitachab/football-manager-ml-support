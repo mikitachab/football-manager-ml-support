{
 "cells": [
  {
   "cell_type": "code",
   "execution_count": 41,
   "metadata": {},
   "outputs": [],
   "source": [
    "import numpy as np\n",
    "import pandas as pd\n",
    "import matplotlib.pyplot as plt\n",
    "import seaborn as sns\n",
    "from tqdm import trange\n",
    "\n",
    "from sklearn.metrics import classification_report\n",
    "from sklearn.metrics import precision_recall_fscore_support as score\n",
    "from sklearn.feature_selection import RFECV, SelectKBest, f_classif\n",
    "from sklearn.tree import DecisionTreeClassifier\n",
    "from sklearn.ensemble import RandomForestClassifier, GradientBoostingClassifier, AdaBoostClassifier\n",
    "from sklearn.neighbors import KNeighborsClassifier\n",
    "from sklearn.neural_network import MLPClassifier\n",
    "# from sklearn.model_selection import GridSearchCV\n",
    "from hypopt import GridSearch  # provide posibility for search with validation set\n",
    "\n",
    "from data_preprocess import preprocess_fifa_data\n",
    "from estimators import Estimator\n",
    "from experiment import perform_grid_search\n",
    "import utils"
   ]
  },
  {
   "cell_type": "code",
   "execution_count": 42,
   "metadata": {},
   "outputs": [],
   "source": [
    "import warnings\n",
    "from sklearn.exceptions import ConvergenceWarning\n",
    "warnings.filterwarnings(\"ignore\", category=ConvergenceWarning)"
   ]
  },
  {
   "cell_type": "code",
   "execution_count": 43,
   "metadata": {
    "scrolled": true
   },
   "outputs": [
    {
     "name": "stderr",
     "output_type": "stream",
     "text": [
      "INFO:data_prepare_pipeline:run data preparation pipeline\n",
      "INFO:data_prepare_pipeline:droping columns\n",
      "INFO:data_prepare_pipeline:droping records with nan values\n",
      "INFO:data_prepare_pipeline:droping goalkeepers\n",
      "INFO:data_prepare_pipeline:transform data\n",
      "INFO:data_prepare_pipeline:transform column Body Type\n",
      "INFO:data_prepare_pipeline:transform column Height\n",
      "INFO:data_prepare_pipeline:transform column Weight\n",
      "INFO:data_prepare_pipeline:transform column Position\n",
      "INFO:data_prepare_pipeline:transform column LS\n",
      "INFO:data_prepare_pipeline:transform column ST\n",
      "INFO:data_prepare_pipeline:transform column RS\n",
      "INFO:data_prepare_pipeline:transform column LW\n",
      "INFO:data_prepare_pipeline:transform column LF\n",
      "INFO:data_prepare_pipeline:transform column CF\n",
      "INFO:data_prepare_pipeline:transform column RF\n",
      "INFO:data_prepare_pipeline:transform column RW\n",
      "INFO:data_prepare_pipeline:transform column LAM\n",
      "INFO:data_prepare_pipeline:transform column CAM\n",
      "INFO:data_prepare_pipeline:transform column RAM\n",
      "INFO:data_prepare_pipeline:transform column LM\n",
      "INFO:data_prepare_pipeline:transform column LCM\n",
      "INFO:data_prepare_pipeline:transform column CM\n",
      "INFO:data_prepare_pipeline:transform column RCM\n",
      "INFO:data_prepare_pipeline:transform column RM\n",
      "INFO:data_prepare_pipeline:transform column LWB\n",
      "INFO:data_prepare_pipeline:transform column LDM\n",
      "INFO:data_prepare_pipeline:transform column CDM\n",
      "INFO:data_prepare_pipeline:transform column RDM\n",
      "INFO:data_prepare_pipeline:transform column RWB\n",
      "INFO:data_prepare_pipeline:transform column LB\n",
      "INFO:data_prepare_pipeline:transform column LCB\n",
      "INFO:data_prepare_pipeline:transform column CB\n",
      "INFO:data_prepare_pipeline:transform column RCB\n",
      "INFO:data_prepare_pipeline:transform column RB\n"
     ]
    },
    {
     "name": "stdout",
     "output_type": "stream",
     "text": [
      "shape before preprocess (16122, 65)\n",
      "Dropping constant columns: []\n",
      "Dropping duplicate columns: ['ST', 'RS', 'CF', 'RF', 'RW', 'CAM', 'RAM', 'CM', 'RCM', 'RM', 'CDM', 'RDM', 'RWB', 'CB', 'RCB', 'RB']\n",
      "Label encoding\n",
      "Preferred Foot encoding:\n",
      "{'Left': 0, 'Right': 1}\n",
      "Work Rate encoding:\n",
      "{'High/ High': 0,\n",
      " 'High/ Low': 1,\n",
      " 'High/ Medium': 2,\n",
      " 'Low/ High': 3,\n",
      " 'Low/ Low': 4,\n",
      " 'Low/ Medium': 5,\n",
      " 'Medium/ High': 6,\n",
      " 'Medium/ Low': 7,\n",
      " 'Medium/ Medium': 8}\n",
      "Body Type encoding:\n",
      "{'Lean': 0, 'Normal': 1, 'Stocky': 2}\n",
      "Position encoding:\n",
      "{'CB': 0, 'CM': 1, 'F': 2, 'LB': 3, 'LM': 4, 'RB': 5, 'RM': 6}\n",
      "Filtering players by overall 70\n",
      "shape after preprocess (5137, 49)\n",
      "dropped 10985 rows\n",
      "dropped 16 columns\n"
     ]
    }
   ],
   "source": [
    "fifa_data = preprocess_fifa_data(pd.read_csv('csv/data.csv'))"
   ]
  },
  {
   "cell_type": "code",
   "execution_count": 44,
   "metadata": {
    "code_folding": []
   },
   "outputs": [],
   "source": [
    "estimators = [\n",
    "    Estimator(\n",
    "        name='DecisionTreeClassifier',\n",
    "        estimator=DecisionTreeClassifier(),\n",
    "        param_grid={\n",
    "            'max_depth': [10, 50, 100],\n",
    "            'min_samples_leaf': [1],\n",
    "            'min_samples_split': [2],\n",
    "        }\n",
    "    ),\n",
    "    Estimator(\n",
    "        name='RandomForestClassifier',\n",
    "        estimator=RandomForestClassifier(),\n",
    "        param_grid={\n",
    "            'bootstrap': [True],\n",
    "            'max_depth': [10, 50, 100],\n",
    "            'max_features': [7],\n",
    "            'min_samples_leaf': [1],\n",
    "            'min_samples_split': [2],\n",
    "            'n_estimators': [100, 500, 1000]\n",
    "        }\n",
    "    ),\n",
    "    Estimator(\n",
    "        name='GradientBoostingClassifier',\n",
    "        estimator=GradientBoostingClassifier(),\n",
    "        param_grid={\n",
    "            'n_estimators': [100, 200, 500]\n",
    "        }\n",
    "    ), \n",
    "   Estimator(\n",
    "        name='AdaBoostClassifier',\n",
    "        estimator=AdaBoostClassifier(),\n",
    "        param_grid={\n",
    "            'n_estimators': [100, 200, 500, 1000]\n",
    "        }\n",
    "    ), \n",
    "    Estimator(\n",
    "        name='KNeighborsClassifier',\n",
    "        estimator=KNeighborsClassifier(),\n",
    "        param_grid={\n",
    "            'n_neighbors': [5,10,20,30,50]\n",
    "        }\n",
    "    ),\n",
    "    Estimator(\n",
    "        name='MLPClassifier',\n",
    "        estimator=MLPClassifier(),\n",
    "        param_grid={\n",
    "            'hidden_layer_sizes': [(30,), (40,), (50,)],\n",
    "            'max_iter': [200, 500]\n",
    "        }\n",
    "    )\n",
    "]"
   ]
  },
  {
   "cell_type": "code",
   "execution_count": 45,
   "metadata": {},
   "outputs": [],
   "source": [
    "def run_experiemnt(data):\n",
    "    return {estimator.name: perform_grid_search(data, estimator) for estimator in estimators}"
   ]
  },
  {
   "cell_type": "code",
   "execution_count": 46,
   "metadata": {},
   "outputs": [
    {
     "data": {
      "image/png": "[encoded data removed]",
      "text/plain": [
       "<Figure size 432x288 with 1 Axes>"
      ]
     },
     "metadata": {
      "needs_background": "light"
     },
     "output_type": "display_data"
    }
   ],
   "source": [
    "learning_data = utils.split_learning_data(fifa_train_data, target)\n",
    "learning_data = utils.scale_data(learning_data)\n",
    "fifa_train_data, target = utils.train_target_split(fifa_data)\n",
    "utils.draw_countplot(target)"
   ]
  },
  {
   "cell_type": "code",
   "execution_count": 47,
   "metadata": {
    "scrolled": true
   },
   "outputs": [
    {
     "name": "stdout",
     "output_type": "stream",
     "text": [
      "running GridSearchCV for DecisionTreeClassifier\n"
     ]
    },
    {
     "name": "stderr",
     "output_type": "stream",
     "text": [
      "100%|██████████| 3/3 [00:00<00:00, 46.39it/s]"
     ]
    },
    {
     "name": "stdout",
     "output_type": "stream",
     "text": [
      "Best estimator params: {'max_depth': 10, 'min_samples_leaf': 1, 'min_samples_split': 2}\n",
      "Best estimator score:\n",
      "              precision    recall  f1-score   support\n",
      "\n",
      "           0       0.36      0.53      0.43       138\n",
      "           1       0.41      0.51      0.45       305\n",
      "           2       0.73      0.75      0.74       358\n",
      "           3       0.61      0.51      0.56       220\n",
      "           4       0.18      0.16      0.17       222\n",
      "           5       0.54      0.48      0.51       228\n",
      "           6       0.25      0.18      0.21       225\n",
      "\n",
      "    accuracy                           0.47      1696\n",
      "   macro avg       0.44      0.45      0.44      1696\n",
      "weighted avg       0.47      0.47      0.46      1696\n",
      "\n",
      "running GridSearchCV for RandomForestClassifier\n"
     ]
    },
    {
     "name": "stderr",
     "output_type": "stream",
     "text": [
      "\n",
      "100%|██████████| 9/9 [00:09<00:00,  1.05s/it]\n"
     ]
    },
    {
     "name": "stdout",
     "output_type": "stream",
     "text": [
      "Best estimator params: {'bootstrap': True, 'max_depth': 10, 'max_features': 7, 'min_samples_leaf': 1, 'min_samples_split': 2, 'n_estimators': 1000}\n",
      "Best estimator score:\n",
      "              precision    recall  f1-score   support\n",
      "\n",
      "           0       0.44      0.66      0.53       138\n",
      "           1       0.50      0.82      0.62       305\n",
      "           2       0.76      0.86      0.81       358\n",
      "           3       0.75      0.60      0.66       220\n",
      "           4       0.32      0.09      0.15       222\n",
      "           5       0.62      0.67      0.64       228\n",
      "           6       0.41      0.17      0.24       225\n",
      "\n",
      "    accuracy                           0.58      1696\n",
      "   macro avg       0.54      0.55      0.52      1696\n",
      "weighted avg       0.56      0.58      0.55      1696\n",
      "\n",
      "running GridSearchCV for GradientBoostingClassifier\n"
     ]
    },
    {
     "name": "stderr",
     "output_type": "stream",
     "text": [
      "100%|██████████| 3/3 [00:17<00:00,  5.91s/it]\n"
     ]
    },
    {
     "name": "stdout",
     "output_type": "stream",
     "text": [
      "Best estimator params: {'n_estimators': 100}\n",
      "Best estimator score:\n",
      "              precision    recall  f1-score   support\n",
      "\n",
      "           0       0.42      0.48      0.45       138\n",
      "           1       0.50      0.69      0.58       305\n",
      "           2       0.76      0.82      0.79       358\n",
      "           3       0.64      0.66      0.65       220\n",
      "           4       0.27      0.16      0.20       222\n",
      "           5       0.63      0.63      0.63       228\n",
      "           6       0.28      0.18      0.22       225\n",
      "\n",
      "    accuracy                           0.55      1696\n",
      "   macro avg       0.50      0.52      0.50      1696\n",
      "weighted avg       0.53      0.55      0.53      1696\n",
      "\n",
      "running GridSearchCV for AdaBoostClassifier\n"
     ]
    },
    {
     "name": "stderr",
     "output_type": "stream",
     "text": [
      "100%|██████████| 4/4 [00:06<00:00,  1.53s/it]\n"
     ]
    },
    {
     "name": "stdout",
     "output_type": "stream",
     "text": [
      "Best estimator params: {'n_estimators': 500}\n",
      "Best estimator score:\n",
      "              precision    recall  f1-score   support\n",
      "\n",
      "           0       0.28      0.07      0.11       138\n",
      "           1       0.37      0.16      0.22       305\n",
      "           2       0.36      0.26      0.30       358\n",
      "           3       0.62      0.62      0.62       220\n",
      "           4       0.22      0.03      0.05       222\n",
      "           5       0.36      0.83      0.50       228\n",
      "           6       0.17      0.37      0.23       225\n",
      "\n",
      "    accuracy                           0.33      1696\n",
      "   macro avg       0.34      0.33      0.29      1696\n",
      "weighted avg       0.35      0.33      0.30      1696\n",
      "\n",
      "running GridSearchCV for KNeighborsClassifier\n"
     ]
    },
    {
     "name": "stderr",
     "output_type": "stream",
     "text": [
      "100%|██████████| 5/5 [00:00<00:00, 14.58it/s]\n"
     ]
    },
    {
     "name": "stdout",
     "output_type": "stream",
     "text": [
      "Best estimator params: {'n_neighbors': 30}\n",
      "Best estimator score:\n",
      "              precision    recall  f1-score   support\n",
      "\n",
      "           0       0.41      0.68      0.51       138\n",
      "           1       0.45      0.79      0.57       305\n",
      "           2       0.72      0.88      0.79       358\n",
      "           3       0.62      0.40      0.48       220\n",
      "           4       0.27      0.06      0.10       222\n",
      "           5       0.54      0.52      0.53       228\n",
      "           6       0.34      0.12      0.17       225\n",
      "\n",
      "    accuracy                           0.53      1696\n",
      "   macro avg       0.48      0.49      0.45      1696\n",
      "weighted avg       0.50      0.53      0.48      1696\n",
      "\n",
      "running GridSearchCV for MLPClassifier\n"
     ]
    },
    {
     "name": "stderr",
     "output_type": "stream",
     "text": [
      "100%|██████████| 6/6 [00:33<00:00,  5.64s/it]\n"
     ]
    },
    {
     "name": "stdout",
     "output_type": "stream",
     "text": [
      "Best estimator params: {'hidden_layer_sizes': (40,), 'max_iter': 200}\n",
      "Best estimator score:\n",
      "              precision    recall  f1-score   support\n",
      "\n",
      "           0       0.43      0.47      0.45       138\n",
      "           1       0.50      0.67      0.57       305\n",
      "           2       0.76      0.80      0.78       358\n",
      "           3       0.66      0.60      0.63       220\n",
      "           4       0.28      0.17      0.21       222\n",
      "           5       0.59      0.67      0.63       228\n",
      "           6       0.34      0.24      0.28       225\n",
      "\n",
      "    accuracy                           0.55      1696\n",
      "   macro avg       0.51      0.52      0.51      1696\n",
      "weighted avg       0.53      0.55      0.53      1696\n",
      "\n"
     ]
    }
   ],
   "source": [
    "scores = run_experiemnt(learning_data)"
   ]
  },
  {
   "cell_type": "code",
   "execution_count": 48,
   "metadata": {},
   "outputs": [],
   "source": [
    "def plot_experiment_result(scores):\n",
    "    fscores = sorted([(name, score['fscore']) for name, score in scores.items()], key=lambda x: x[1])\n",
    "    plt.figure(figsize=(12,6))\n",
    "    n_estimators = len(fscores)\n",
    "    plt.barh(range(n_estimators), [s[1] for s in fscores], align='center')\n",
    "    plt.yticks(range(n_estimators), [s[0] for s in fscores])\n",
    "    plt.show()"
   ]
  },
  {
   "cell_type": "code",
   "execution_count": 49,
   "metadata": {},
   "outputs": [
    {
     "data": {
      "image/png": "[encoded data removed]",
      "text/plain": [
       "<Figure size 864x432 with 1 Axes>"
      ]
     },
     "metadata": {
      "needs_background": "light"
     },
     "output_type": "display_data"
    }
   ],
   "source": [
    "plot_experiment_result(scores)"
   ]
  }
 ],
 "metadata": {
  "kernelspec": {
   "display_name": "Python 3",
   "language": "python",
   "name": "python3"
  },
  "language_info": {
   "codemirror_mode": {
    "name": "ipython",
    "version": 3
   },
   "file_extension": ".py",
   "mimetype": "text/x-python",
   "name": "python",
   "nbconvert_exporter": "python",
   "pygments_lexer": "ipython3",
   "version": "3.6.8"
  }
 },
 "nbformat": 4,
 "nbformat_minor": 2
}
