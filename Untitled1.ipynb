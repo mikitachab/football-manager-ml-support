{
 "cells": [
  {
   "cell_type": "code",
   "execution_count": 24,
   "metadata": {
    "scrolled": true
   },
   "outputs": [],
   "source": [
    "import numpy as np\n",
    "import pandas as pd\n",
    "import matplotlib.pyplot as plt\n",
    "import seaborn as sns\n",
    "\n",
    "from sklearn.metrics import classification_report\n",
    "from sklearn.metrics import precision_recall_fscore_support as score\n",
    "from sklearn.feature_selection import RFECV, SelectKBest, f_classif\n",
    "from sklearn.tree import DecisionTreeClassifier\n",
    "from sklearn.ensemble import RandomForestClassifier, GradientBoostingClassifier, AdaBoostClassifier\n",
    "from sklearn.neighbors import KNeighborsClassifier\n",
    "from sklearn.neural_network import MLPClassifier\n",
    "from sklearn.decomposition import PCA\n",
    "# from sklearn.model_selection import GridSearchCV\n",
    "from imblearn.over_sampling import BorderlineSMOTE\n",
    "from hypopt import GridSearch  # provide posibility for search with validation set\n",
    "from tqdm import trange\n",
    "import xgboost as xgb\n",
    "\n",
    "import utils\n",
    "from data_preprocess import preprocess_fifa_data\n",
    "from estimators import Estimator\n",
    "from experiment import perform_grid_search, eval_model"
   ]
  },
  {
   "cell_type": "code",
   "execution_count": 2,
   "metadata": {
    "scrolled": true
   },
   "outputs": [],
   "source": [
    "import warnings\n",
    "from sklearn.exceptions import ConvergenceWarning\n",
    "warnings.filterwarnings(\"ignore\", category=ConvergenceWarning)"
   ]
  },
  {
   "cell_type": "markdown",
   "metadata": {},
   "source": [
    "[train test split before oversampling](https://stats.stackexchange.com/questions/60180/testing-classification-on-oversampled-imbalance-data)  \n",
    "[scale before feature selection](https://stats.stackexchange.com/questions/363312/normalization-standardization-should-one-do-this-before-oversampling-undersampl)"
   ]
  },
  {
   "cell_type": "code",
   "execution_count": 3,
   "metadata": {
    "code_folding": [],
    "scrolled": true
   },
   "outputs": [],
   "source": [
    "estimators = [\n",
    "    Estimator(\n",
    "        name='DecisionTreeClassifier',\n",
    "        estimator=DecisionTreeClassifier(),\n",
    "        param_grid={\n",
    "            'max_depth': [10, 50, 100],\n",
    "            'min_samples_leaf': [1],\n",
    "            'min_samples_split': [2],\n",
    "        }\n",
    "    ),\n",
    "    Estimator(\n",
    "        name='RandomForestClassifier',\n",
    "        estimator=RandomForestClassifier(),\n",
    "        param_grid={\n",
    "            'bootstrap': [True],\n",
    "            'max_depth': [10, 50, 100],\n",
    "            'max_features': [7],\n",
    "            'min_samples_leaf': [1],\n",
    "            'min_samples_split': [2],\n",
    "            'n_estimators': [100, 500, 1000]\n",
    "        }\n",
    "    ),\n",
    "    Estimator(\n",
    "        name='GradientBoostingClassifier',\n",
    "        estimator=GradientBoostingClassifier(),\n",
    "        param_grid={\n",
    "            'n_estimators': [100, 200, 500]\n",
    "        }\n",
    "    ), \n",
    "   Estimator(\n",
    "        name='AdaBoostClassifier',\n",
    "        estimator=AdaBoostClassifier(),\n",
    "        param_grid={\n",
    "            'n_estimators': [100, 200, 500, 1000]\n",
    "        }\n",
    "    ), \n",
    "    Estimator(\n",
    "        name='KNeighborsClassifier',\n",
    "        estimator=KNeighborsClassifier(),\n",
    "        param_grid={\n",
    "            'n_neighbors': [5,10,20,30,50]\n",
    "        }\n",
    "    ),\n",
    "    Estimator(\n",
    "        name='MLPClassifier',\n",
    "        estimator=MLPClassifier(),\n",
    "        param_grid={\n",
    "            'hidden_layer_sizes': [(30,), (40,), (50,)],\n",
    "            'max_iter': [200, 500]\n",
    "        }\n",
    "    ),\n",
    "    Estimator(\n",
    "        name='XGBClassifier',\n",
    "        estimator=xgb.XGBClassifier(),\n",
    "        param_grid={\n",
    "            'objective': ['multi:softmax']\n",
    "        }\n",
    "    )\n",
    "]"
   ]
  },
  {
   "cell_type": "code",
   "execution_count": 4,
   "metadata": {
    "scrolled": true
   },
   "outputs": [],
   "source": [
    "def run_experiemnt(data):\n",
    "    return {estimator.name: perform_grid_search(data, estimator) for estimator in estimators}"
   ]
  },
  {
   "cell_type": "code",
   "execution_count": 5,
   "metadata": {},
   "outputs": [],
   "source": [
    "# features_selectors = [\n",
    "#     {\n",
    "#         'selector': SelectKBest,\n",
    "#         'args': {\n",
    "#             'score_func': f_classif,\n",
    "#             'k': 40\n",
    "#         }\n",
    "#     },\n",
    "# ]\n",
    "# rfecv_selector = RFECV(estimator=RandomForestClassifier(n_estimators=100), cv=5, step=1, n_jobs=4, verbose=5)\n",
    "# k_best_selector = SelectKBest(score_func=f_classif, k=40)\n",
    "\n",
    "\n",
    "#     k_best_selector = SelectKBest(f_classif, k=40)\n",
    "#     return select_features(selector=k_best_selector, data=data)\n",
    "\n",
    "\n",
    "#     utils.draw_countplot(target, 'Position Classes')"
   ]
  },
  {
   "cell_type": "code",
   "execution_count": 6,
   "metadata": {
    "code_folding": []
   },
   "outputs": [],
   "source": [
    "def setup_learning_data(fifa_data):\n",
    "    fifa_train_data, target = utils.train_target_split(fifa_data)\n",
    "    learning_data = utils.split_learning_data(fifa_train_data, target)\n",
    "    learning_data = utils.scale_data(learning_data)\n",
    "    return learning_data"
   ]
  },
  {
   "cell_type": "code",
   "execution_count": 7,
   "metadata": {},
   "outputs": [],
   "source": [
    "def oversampling(data):\n",
    "    sampler = BorderlineSMOTE()\n",
    "    resampled_x, resampled_y = utils.resample_data(sampler, data['x_train'], data['y_train'])\n",
    "    new_data = {\n",
    "        'x_train': resampled_x,\n",
    "        'y_train': resampled_y\n",
    "    }\n",
    "    return {**data, **new_data}"
   ]
  },
  {
   "cell_type": "code",
   "execution_count": 8,
   "metadata": {},
   "outputs": [],
   "source": [
    "def main():\n",
    "    fifa_data = preprocess_fifa_data(pd.read_csv('csv/data.csv'))\n",
    "    learning_data = setup_learning_data(fifa_data)\n",
    "    scores = run_experiemnt(learning_data)\n",
    "    utils.plot_experiment_result(scores)"
   ]
  },
  {
   "cell_type": "code",
   "execution_count": 9,
   "metadata": {},
   "outputs": [
    {
     "name": "stderr",
     "output_type": "stream",
     "text": [
      "INFO:data_prepare_pipeline:run data preparation pipeline\n",
      "INFO:data_prepare_pipeline:droping columns\n",
      "INFO:data_prepare_pipeline:droping records with nan values\n",
      "INFO:data_prepare_pipeline:droping goalkeepers\n",
      "INFO:data_prepare_pipeline:transform data\n",
      "INFO:data_prepare_pipeline:transform column Body Type\n",
      "INFO:data_prepare_pipeline:transform column Height\n",
      "INFO:data_prepare_pipeline:transform column Weight\n",
      "INFO:data_prepare_pipeline:transform column Position\n",
      "INFO:data_prepare_pipeline:transform column LS\n",
      "INFO:data_prepare_pipeline:transform column ST\n",
      "INFO:data_prepare_pipeline:transform column RS\n",
      "INFO:data_prepare_pipeline:transform column LW\n",
      "INFO:data_prepare_pipeline:transform column LF\n",
      "INFO:data_prepare_pipeline:transform column CF\n",
      "INFO:data_prepare_pipeline:transform column RF\n",
      "INFO:data_prepare_pipeline:transform column RW\n",
      "INFO:data_prepare_pipeline:transform column LAM\n",
      "INFO:data_prepare_pipeline:transform column CAM\n",
      "INFO:data_prepare_pipeline:transform column RAM\n",
      "INFO:data_prepare_pipeline:transform column LM\n",
      "INFO:data_prepare_pipeline:transform column LCM\n",
      "INFO:data_prepare_pipeline:transform column CM\n",
      "INFO:data_prepare_pipeline:transform column RCM\n",
      "INFO:data_prepare_pipeline:transform column RM\n",
      "INFO:data_prepare_pipeline:transform column LWB\n",
      "INFO:data_prepare_pipeline:transform column LDM\n",
      "INFO:data_prepare_pipeline:transform column CDM\n",
      "INFO:data_prepare_pipeline:transform column RDM\n",
      "INFO:data_prepare_pipeline:transform column RWB\n",
      "INFO:data_prepare_pipeline:transform column LB\n",
      "INFO:data_prepare_pipeline:transform column LCB\n",
      "INFO:data_prepare_pipeline:transform column CB\n",
      "INFO:data_prepare_pipeline:transform column RCB\n",
      "INFO:data_prepare_pipeline:transform column RB\n"
     ]
    },
    {
     "name": "stdout",
     "output_type": "stream",
     "text": [
      "shape before preprocess (16122, 65)\n",
      "Dropping constant columns: []\n",
      "Dropping duplicate columns: ['ST', 'RS', 'CF', 'RF', 'RW', 'CAM', 'RAM', 'CM', 'RCM', 'RM', 'CDM', 'RDM', 'RWB', 'CB', 'RCB', 'RB']\n",
      "Label encoding\n",
      "Preferred Foot encoding:\n",
      "{'Left': 0, 'Right': 1}\n",
      "Work Rate encoding:\n",
      "{'High/ High': 0,\n",
      " 'High/ Low': 1,\n",
      " 'High/ Medium': 2,\n",
      " 'Low/ High': 3,\n",
      " 'Low/ Low': 4,\n",
      " 'Low/ Medium': 5,\n",
      " 'Medium/ High': 6,\n",
      " 'Medium/ Low': 7,\n",
      " 'Medium/ Medium': 8}\n",
      "Body Type encoding:\n",
      "{'Lean': 0, 'Normal': 1, 'Stocky': 2}\n",
      "Position encoding:\n",
      "{'CB': 0, 'CM': 1, 'F': 2, 'LB': 3, 'LM': 4, 'RB': 5, 'RM': 6}\n",
      "Filtering players by overall 70\n",
      "shape after preprocess (5137, 49)\n",
      "dropped 10985 rows\n",
      "dropped 16 columns\n",
      "running GridSearch for DecisionTreeClassifier\n"
     ]
    },
    {
     "name": "stderr",
     "output_type": "stream",
     "text": [
      "100%|██████████| 3/3 [00:00<00:00, 45.99it/s]"
     ]
    },
    {
     "name": "stdout",
     "output_type": "stream",
     "text": [
      "DecisionTreeClassifier results\n",
      "Best estimator params: {'max_depth': 10, 'min_samples_leaf': 1, 'min_samples_split': 2}\n",
      "Best estimator score: 0.46332729183197885\n",
      "running GridSearch for RandomForestClassifier\n"
     ]
    },
    {
     "name": "stderr",
     "output_type": "stream",
     "text": [
      "\n",
      "100%|██████████| 9/9 [00:11<00:00,  1.27s/it]\n"
     ]
    },
    {
     "name": "stdout",
     "output_type": "stream",
     "text": [
      "RandomForestClassifier results\n",
      "Best estimator params: {'bootstrap': True, 'max_depth': 10, 'max_features': 7, 'min_samples_leaf': 1, 'min_samples_split': 2, 'n_estimators': 1000}\n",
      "Best estimator score: 0.5478400508143227\n",
      "running GridSearch for GradientBoostingClassifier\n"
     ]
    },
    {
     "name": "stderr",
     "output_type": "stream",
     "text": [
      "100%|██████████| 3/3 [00:20<00:00,  6.99s/it]\n"
     ]
    },
    {
     "name": "stdout",
     "output_type": "stream",
     "text": [
      "GradientBoostingClassifier results\n",
      "Best estimator params: {'n_estimators': 100}\n",
      "Best estimator score: 0.532205329617861\n",
      "running GridSearch for AdaBoostClassifier\n"
     ]
    },
    {
     "name": "stderr",
     "output_type": "stream",
     "text": [
      "100%|██████████| 4/4 [00:06<00:00,  1.70s/it]\n"
     ]
    },
    {
     "name": "stdout",
     "output_type": "stream",
     "text": [
      "AdaBoostClassifier results\n",
      "Best estimator params: {'n_estimators': 500}\n",
      "Best estimator score: 0.29702497636693503\n",
      "running GridSearch for KNeighborsClassifier\n"
     ]
    },
    {
     "name": "stderr",
     "output_type": "stream",
     "text": [
      "100%|██████████| 5/5 [00:00<00:00, 10.75it/s]\n"
     ]
    },
    {
     "name": "stdout",
     "output_type": "stream",
     "text": [
      "KNeighborsClassifier results\n",
      "Best estimator params: {'n_neighbors': 30}\n",
      "Best estimator score: 0.4821734123635118\n",
      "running GridSearch for MLPClassifier\n"
     ]
    },
    {
     "name": "stderr",
     "output_type": "stream",
     "text": [
      "100%|██████████| 6/6 [00:37<00:00,  6.22s/it]\n"
     ]
    },
    {
     "name": "stdout",
     "output_type": "stream",
     "text": [
      "MLPClassifier results\n",
      "Best estimator params: {'hidden_layer_sizes': (40,), 'max_iter': 200}\n",
      "Best estimator score: 0.5348412065790135\n",
      "running GridSearch for XGBClassifier\n"
     ]
    },
    {
     "name": "stderr",
     "output_type": "stream",
     "text": [
      "100%|██████████| 1/1 [00:02<00:00,  2.21s/it]\n"
     ]
    },
    {
     "name": "stdout",
     "output_type": "stream",
     "text": [
      "XGBClassifier results\n",
      "Best estimator params: {'objective': 'multi:softmax'}\n",
      "Best estimator score: 0.5303794285896795\n"
     ]
    },
    {
     "data": {
      "image/png": "[encoded data removed]",
      "text/plain": [
       "<Figure size 864x432 with 1 Axes>"
      ]
     },
     "metadata": {
      "needs_background": "light"
     },
     "output_type": "display_data"
    }
   ],
   "source": [
    "main()"
   ]
  },
  {
   "cell_type": "code",
   "execution_count": 10,
   "metadata": {},
   "outputs": [],
   "source": [
    "# def main_():\n",
    "#     fifa_data = preprocess_fifa_data(pd.read_csv('csv/data.csv'))\n",
    "#     learning_data = setup_learning_data(fifa_data)\n",
    "    \n",
    "#     selectors  = {\n",
    "#         'SelectKBest': SelectKBest(f_classif, k=40),\n",
    "#         'RFECV': RFECV(estimator=RandomForestClassifier(n_estimators=100), cv=5, step=1, n_jobs=4, verbose=5),\n",
    "#         'PCA': PCA(n_components=10)\n",
    "#     }\n",
    "    \n",
    "#     for name, selector in selectors.items():\n",
    "#         print('Selected data features with', name)\n",
    "#         selected_data = utils.select_features(selector=selector, data=learning_data)\n",
    "#         scores = run_experiemnt(selected_data)\n",
    "#         utils.plot_experiment_result(scores, name)\n",
    "        \n",
    "#     oversampled_learning_data = oversampling(learning_data)\n",
    "#     print('Oversampled')\n",
    "    \n",
    "#     utils.draw_countplot(oversampled_learning_data['y_train'])\n",
    "#     for name, selector in selectors.items():\n",
    "#         print('Selected data features with', name)\n",
    "#         selected_data = utils.select_features(selector=selector, data=oversampled_learning_data)\n",
    "#         scores = run_experiemnt(selected_data)\n",
    "#         utils.plot_experiment_result(scores, name + ' + oversampling')"
   ]
  },
  {
   "cell_type": "code",
   "execution_count": 31,
   "metadata": {},
   "outputs": [],
   "source": [
    "def k_best_selector_expriment(data, model):\n",
    "    fscores = []\n",
    "    start_k = 1\n",
    "    end_k = 48\n",
    "\n",
    "    for k in trange(start_k, end_k):\n",
    "        k_best_selector = SelectKBest(f_classif, k=k)\n",
    "        selected_data = utils.select_features(selector=k_best_selector, data=data)\n",
    "        model_score = eval_model(model, selected_data)\n",
    "        fscores.append(model_score['fscore']) \n",
    "\n",
    "    plt.figure(figsize=(12,6))\n",
    "    sns.scatterplot(data=pd.DataFrame({'k_features':list(range(start_k, end_k)), 'f1-score': fscores}), x='k_features', y='f1-score')"
   ]
  },
  {
   "cell_type": "code",
   "execution_count": 32,
   "metadata": {},
   "outputs": [],
   "source": [
    " def main_k_best(model):\n",
    "    fifa_data = preprocess_fifa_data(pd.read_csv('csv/data.csv'))\n",
    "    learning_data = setup_learning_data(fifa_data)\n",
    "    k_best_selector_expriment(learning_data, model)"
   ]
  },
  {
   "cell_type": "code",
   "execution_count": 33,
   "metadata": {
    "scrolled": false
   },
   "outputs": [
    {
     "name": "stderr",
     "output_type": "stream",
     "text": [
      "INFO:data_prepare_pipeline:run data preparation pipeline\n",
      "INFO:data_prepare_pipeline:droping columns\n",
      "INFO:data_prepare_pipeline:droping records with nan values\n",
      "INFO:data_prepare_pipeline:droping goalkeepers\n",
      "INFO:data_prepare_pipeline:transform data\n",
      "INFO:data_prepare_pipeline:transform column Body Type\n",
      "INFO:data_prepare_pipeline:transform column Height\n",
      "INFO:data_prepare_pipeline:transform column Weight\n",
      "INFO:data_prepare_pipeline:transform column Position\n",
      "INFO:data_prepare_pipeline:transform column LS\n",
      "INFO:data_prepare_pipeline:transform column ST\n",
      "INFO:data_prepare_pipeline:transform column RS\n",
      "INFO:data_prepare_pipeline:transform column LW\n",
      "INFO:data_prepare_pipeline:transform column LF\n",
      "INFO:data_prepare_pipeline:transform column CF\n",
      "INFO:data_prepare_pipeline:transform column RF\n",
      "INFO:data_prepare_pipeline:transform column RW\n",
      "INFO:data_prepare_pipeline:transform column LAM\n",
      "INFO:data_prepare_pipeline:transform column CAM\n",
      "INFO:data_prepare_pipeline:transform column RAM\n",
      "INFO:data_prepare_pipeline:transform column LM\n",
      "INFO:data_prepare_pipeline:transform column LCM\n",
      "INFO:data_prepare_pipeline:transform column CM\n",
      "INFO:data_prepare_pipeline:transform column RCM\n",
      "INFO:data_prepare_pipeline:transform column RM\n",
      "INFO:data_prepare_pipeline:transform column LWB\n",
      "INFO:data_prepare_pipeline:transform column LDM\n",
      "INFO:data_prepare_pipeline:transform column CDM\n",
      "INFO:data_prepare_pipeline:transform column RDM\n",
      "INFO:data_prepare_pipeline:transform column RWB\n",
      "INFO:data_prepare_pipeline:transform column LB\n",
      "INFO:data_prepare_pipeline:transform column LCB\n",
      "INFO:data_prepare_pipeline:transform column CB\n",
      "INFO:data_prepare_pipeline:transform column RCB\n",
      "INFO:data_prepare_pipeline:transform column RB\n"
     ]
    },
    {
     "name": "stdout",
     "output_type": "stream",
     "text": [
      "shape before preprocess (16122, 65)\n",
      "Dropping constant columns: []\n"
     ]
    },
    {
     "name": "stderr",
     "output_type": "stream",
     "text": [
      "\r",
      "  0%|          | 0/47 [00:00<?, ?it/s]"
     ]
    },
    {
     "name": "stdout",
     "output_type": "stream",
     "text": [
      "Dropping duplicate columns: ['ST', 'RS', 'CF', 'RF', 'RW', 'CAM', 'RAM', 'CM', 'RCM', 'RM', 'CDM', 'RDM', 'RWB', 'CB', 'RCB', 'RB']\n",
      "Label encoding\n",
      "Preferred Foot encoding:\n",
      "{'Left': 0, 'Right': 1}\n",
      "Work Rate encoding:\n",
      "{'High/ High': 0,\n",
      " 'High/ Low': 1,\n",
      " 'High/ Medium': 2,\n",
      " 'Low/ High': 3,\n",
      " 'Low/ Low': 4,\n",
      " 'Low/ Medium': 5,\n",
      " 'Medium/ High': 6,\n",
      " 'Medium/ Low': 7,\n",
      " 'Medium/ Medium': 8}\n",
      "Body Type encoding:\n",
      "{'Lean': 0, 'Normal': 1, 'Stocky': 2}\n",
      "Position encoding:\n",
      "{'CB': 0, 'CM': 1, 'F': 2, 'LB': 3, 'LM': 4, 'RB': 5, 'RM': 6}\n",
      "Filtering players by overall 70\n",
      "shape after preprocess (5137, 49)\n",
      "dropped 10985 rows\n",
      "dropped 16 columns\n"
     ]
    },
    {
     "name": "stderr",
     "output_type": "stream",
     "text": [
      "100%|██████████| 47/47 [00:46<00:00,  1.01it/s]\n"
     ]
    },
    {
     "data": {
      "image/png": "[encoded data removed]",
      "text/plain": [
       "<Figure size 864x432 with 1 Axes>"
      ]
     },
     "metadata": {
      "needs_background": "light"
     },
     "output_type": "display_data"
    }
   ],
   "source": [
    "main_k_best(RandomForestClassifier(n_estimators=200))"
   ]
  },
  {
   "cell_type": "code",
   "execution_count": null,
   "metadata": {},
   "outputs": [
    {
     "name": "stderr",
     "output_type": "stream",
     "text": [
      "INFO:data_prepare_pipeline:run data preparation pipeline\n",
      "INFO:data_prepare_pipeline:droping columns\n",
      "INFO:data_prepare_pipeline:droping records with nan values\n",
      "INFO:data_prepare_pipeline:droping goalkeepers\n",
      "INFO:data_prepare_pipeline:transform data\n",
      "INFO:data_prepare_pipeline:transform column Body Type\n",
      "INFO:data_prepare_pipeline:transform column Height\n",
      "INFO:data_prepare_pipeline:transform column Weight\n",
      "INFO:data_prepare_pipeline:transform column Position\n",
      "INFO:data_prepare_pipeline:transform column LS\n",
      "INFO:data_prepare_pipeline:transform column ST\n",
      "INFO:data_prepare_pipeline:transform column RS\n",
      "INFO:data_prepare_pipeline:transform column LW\n",
      "INFO:data_prepare_pipeline:transform column LF\n",
      "INFO:data_prepare_pipeline:transform column CF\n",
      "INFO:data_prepare_pipeline:transform column RF\n",
      "INFO:data_prepare_pipeline:transform column RW\n",
      "INFO:data_prepare_pipeline:transform column LAM\n",
      "INFO:data_prepare_pipeline:transform column CAM\n",
      "INFO:data_prepare_pipeline:transform column RAM\n",
      "INFO:data_prepare_pipeline:transform column LM\n",
      "INFO:data_prepare_pipeline:transform column LCM\n",
      "INFO:data_prepare_pipeline:transform column CM\n",
      "INFO:data_prepare_pipeline:transform column RCM\n",
      "INFO:data_prepare_pipeline:transform column RM\n",
      "INFO:data_prepare_pipeline:transform column LWB\n",
      "INFO:data_prepare_pipeline:transform column LDM\n",
      "INFO:data_prepare_pipeline:transform column CDM\n",
      "INFO:data_prepare_pipeline:transform column RDM\n",
      "INFO:data_prepare_pipeline:transform column RWB\n",
      "INFO:data_prepare_pipeline:transform column LB\n",
      "INFO:data_prepare_pipeline:transform column LCB\n",
      "INFO:data_prepare_pipeline:transform column CB\n",
      "INFO:data_prepare_pipeline:transform column RCB\n",
      "INFO:data_prepare_pipeline:transform column RB\n"
     ]
    },
    {
     "name": "stdout",
     "output_type": "stream",
     "text": [
      "shape before preprocess (16122, 65)\n",
      "Dropping constant columns: []\n"
     ]
    },
    {
     "name": "stderr",
     "output_type": "stream",
     "text": [
      "\r",
      "  0%|          | 0/47 [00:00<?, ?it/s]"
     ]
    },
    {
     "name": "stdout",
     "output_type": "stream",
     "text": [
      "Dropping duplicate columns: ['ST', 'RS', 'CF', 'RF', 'RW', 'CAM', 'RAM', 'CM', 'RCM', 'RM', 'CDM', 'RDM', 'RWB', 'CB', 'RCB', 'RB']\n",
      "Label encoding\n",
      "Preferred Foot encoding:\n",
      "{'Left': 0, 'Right': 1}\n",
      "Work Rate encoding:\n",
      "{'High/ High': 0,\n",
      " 'High/ Low': 1,\n",
      " 'High/ Medium': 2,\n",
      " 'Low/ High': 3,\n",
      " 'Low/ Low': 4,\n",
      " 'Low/ Medium': 5,\n",
      " 'Medium/ High': 6,\n",
      " 'Medium/ Low': 7,\n",
      " 'Medium/ Medium': 8}\n",
      "Body Type encoding:\n",
      "{'Lean': 0, 'Normal': 1, 'Stocky': 2}\n",
      "Position encoding:\n",
      "{'CB': 0, 'CM': 1, 'F': 2, 'LB': 3, 'LM': 4, 'RB': 5, 'RM': 6}\n",
      "Filtering players by overall 70\n",
      "shape after preprocess (5137, 49)\n",
      "dropped 10985 rows\n",
      "dropped 16 columns\n"
     ]
    },
    {
     "name": "stderr",
     "output_type": "stream",
     "text": [
      " 68%|██████▊   | 32/47 [05:03<03:29, 14.00s/it]"
     ]
    }
   ],
   "source": [
    "main_k_best(GradientBoostingClassifier(n_estimators=500))"
   ]
  }
 ],
 "metadata": {
  "kernelspec": {
   "display_name": "Python 3",
   "language": "python",
   "name": "python3"
  },
  "language_info": {
   "codemirror_mode": {
    "name": "ipython",
    "version": 3
   },
   "file_extension": ".py",
   "mimetype": "text/x-python",
   "name": "python",
   "nbconvert_exporter": "python",
   "pygments_lexer": "ipython3",
   "version": "3.6.8"
  }
 },
 "nbformat": 4,
 "nbformat_minor": 2
}
